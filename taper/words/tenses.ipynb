{
 "cells": [
  {
   "cell_type": "code",
   "execution_count": 10,
   "metadata": {},
   "outputs": [],
   "source": [
    "text = \"I am Alex. You are Annika\"\n",
    "\n",
    "tenses = []\n",
    "\n",
    "# simple future = \"he will buy a new car\"\n",
    "# subject + will + verb1 + object\n",
    "# future progressive = subject + will be + verb1 + ing\n",
    "# future perfect = subject + \"will\" / \"shall\" + verb3\n",
    "# future perfect progressive = subject + will have been / will not have been + verb1 + ing\n",
    "\n",
    "# # simple\n",
    "# present simple = subject + verb 1 + 's/es'\n",
    "# past = subject + verb2 or irregular verb in past\n",
    "# future = subject + will/shall + verb1\n",
    "\n",
    "# # there are 12 in enlgish \n"
   ]
  },
  {
   "cell_type": "code",
   "execution_count": 6,
   "metadata": {},
   "outputs": [
    {
     "name": "stdout",
     "output_type": "stream",
     "text": [
      "Requirement already satisfied: spacy in /Users/alex/miniconda3/envs/schahar/lib/python3.10/site-packages (3.8.5)\n",
      "Requirement already satisfied: spacy-legacy<3.1.0,>=3.0.11 in /Users/alex/miniconda3/envs/schahar/lib/python3.10/site-packages (from spacy) (3.0.12)\n",
      "Requirement already satisfied: spacy-loggers<2.0.0,>=1.0.0 in /Users/alex/miniconda3/envs/schahar/lib/python3.10/site-packages (from spacy) (1.0.5)\n",
      "Requirement already satisfied: murmurhash<1.1.0,>=0.28.0 in /Users/alex/miniconda3/envs/schahar/lib/python3.10/site-packages (from spacy) (1.0.12)\n",
      "Requirement already satisfied: cymem<2.1.0,>=2.0.2 in /Users/alex/miniconda3/envs/schahar/lib/python3.10/site-packages (from spacy) (2.0.11)\n",
      "Requirement already satisfied: preshed<3.1.0,>=3.0.2 in /Users/alex/miniconda3/envs/schahar/lib/python3.10/site-packages (from spacy) (3.0.9)\n",
      "Requirement already satisfied: thinc<8.4.0,>=8.3.4 in /Users/alex/miniconda3/envs/schahar/lib/python3.10/site-packages (from spacy) (8.3.6)\n",
      "Requirement already satisfied: wasabi<1.2.0,>=0.9.1 in /Users/alex/miniconda3/envs/schahar/lib/python3.10/site-packages (from spacy) (1.1.3)\n",
      "Requirement already satisfied: srsly<3.0.0,>=2.4.3 in /Users/alex/miniconda3/envs/schahar/lib/python3.10/site-packages (from spacy) (2.5.1)\n",
      "Requirement already satisfied: catalogue<2.1.0,>=2.0.6 in /Users/alex/miniconda3/envs/schahar/lib/python3.10/site-packages (from spacy) (2.0.10)\n",
      "Requirement already satisfied: weasel<0.5.0,>=0.1.0 in /Users/alex/miniconda3/envs/schahar/lib/python3.10/site-packages (from spacy) (0.4.1)\n",
      "Requirement already satisfied: typer<1.0.0,>=0.3.0 in /Users/alex/miniconda3/envs/schahar/lib/python3.10/site-packages (from spacy) (0.15.2)\n",
      "Requirement already satisfied: tqdm<5.0.0,>=4.38.0 in /Users/alex/miniconda3/envs/schahar/lib/python3.10/site-packages (from spacy) (4.66.2)\n",
      "Requirement already satisfied: numpy>=1.19.0 in /Users/alex/miniconda3/envs/schahar/lib/python3.10/site-packages (from spacy) (2.2.5)\n",
      "Requirement already satisfied: requests<3.0.0,>=2.13.0 in /Users/alex/miniconda3/envs/schahar/lib/python3.10/site-packages (from spacy) (2.31.0)\n",
      "Requirement already satisfied: pydantic!=1.8,!=1.8.1,<3.0.0,>=1.7.4 in /Users/alex/miniconda3/envs/schahar/lib/python3.10/site-packages (from spacy) (2.6.4)\n",
      "Requirement already satisfied: jinja2 in /Users/alex/miniconda3/envs/schahar/lib/python3.10/site-packages (from spacy) (3.1.3)\n",
      "Requirement already satisfied: setuptools in /Users/alex/miniconda3/envs/schahar/lib/python3.10/site-packages (from spacy) (68.0.0)\n",
      "Requirement already satisfied: packaging>=20.0 in /Users/alex/miniconda3/envs/schahar/lib/python3.10/site-packages (from spacy) (24.0)\n",
      "Requirement already satisfied: langcodes<4.0.0,>=3.2.0 in /Users/alex/miniconda3/envs/schahar/lib/python3.10/site-packages (from spacy) (3.5.0)\n",
      "Requirement already satisfied: language-data>=1.2 in /Users/alex/miniconda3/envs/schahar/lib/python3.10/site-packages (from langcodes<4.0.0,>=3.2.0->spacy) (1.3.0)\n",
      "Requirement already satisfied: annotated-types>=0.4.0 in /Users/alex/miniconda3/envs/schahar/lib/python3.10/site-packages (from pydantic!=1.8,!=1.8.1,<3.0.0,>=1.7.4->spacy) (0.6.0)\n",
      "Requirement already satisfied: pydantic-core==2.16.3 in /Users/alex/miniconda3/envs/schahar/lib/python3.10/site-packages (from pydantic!=1.8,!=1.8.1,<3.0.0,>=1.7.4->spacy) (2.16.3)\n",
      "Requirement already satisfied: typing-extensions>=4.6.1 in /Users/alex/miniconda3/envs/schahar/lib/python3.10/site-packages (from pydantic!=1.8,!=1.8.1,<3.0.0,>=1.7.4->spacy) (4.10.0)\n",
      "Requirement already satisfied: charset-normalizer<4,>=2 in /Users/alex/miniconda3/envs/schahar/lib/python3.10/site-packages (from requests<3.0.0,>=2.13.0->spacy) (3.3.2)\n",
      "Requirement already satisfied: idna<4,>=2.5 in /Users/alex/miniconda3/envs/schahar/lib/python3.10/site-packages (from requests<3.0.0,>=2.13.0->spacy) (3.6)\n",
      "Requirement already satisfied: urllib3<3,>=1.21.1 in /Users/alex/miniconda3/envs/schahar/lib/python3.10/site-packages (from requests<3.0.0,>=2.13.0->spacy) (2.2.1)\n",
      "Requirement already satisfied: certifi>=2017.4.17 in /Users/alex/miniconda3/envs/schahar/lib/python3.10/site-packages (from requests<3.0.0,>=2.13.0->spacy) (2024.2.2)\n",
      "Requirement already satisfied: blis<1.4.0,>=1.3.0 in /Users/alex/miniconda3/envs/schahar/lib/python3.10/site-packages (from thinc<8.4.0,>=8.3.4->spacy) (1.3.0)\n",
      "Requirement already satisfied: confection<1.0.0,>=0.0.1 in /Users/alex/miniconda3/envs/schahar/lib/python3.10/site-packages (from thinc<8.4.0,>=8.3.4->spacy) (0.1.5)\n",
      "Requirement already satisfied: click>=8.0.0 in /Users/alex/miniconda3/envs/schahar/lib/python3.10/site-packages (from typer<1.0.0,>=0.3.0->spacy) (8.1.8)\n",
      "Requirement already satisfied: shellingham>=1.3.0 in /Users/alex/miniconda3/envs/schahar/lib/python3.10/site-packages (from typer<1.0.0,>=0.3.0->spacy) (1.5.4)\n",
      "Requirement already satisfied: rich>=10.11.0 in /Users/alex/miniconda3/envs/schahar/lib/python3.10/site-packages (from typer<1.0.0,>=0.3.0->spacy) (14.0.0)\n",
      "Requirement already satisfied: cloudpathlib<1.0.0,>=0.7.0 in /Users/alex/miniconda3/envs/schahar/lib/python3.10/site-packages (from weasel<0.5.0,>=0.1.0->spacy) (0.21.0)\n",
      "Requirement already satisfied: smart-open<8.0.0,>=5.2.1 in /Users/alex/miniconda3/envs/schahar/lib/python3.10/site-packages (from weasel<0.5.0,>=0.1.0->spacy) (7.1.0)\n",
      "Requirement already satisfied: MarkupSafe>=2.0 in /Users/alex/miniconda3/envs/schahar/lib/python3.10/site-packages (from jinja2->spacy) (2.1.5)\n",
      "Requirement already satisfied: marisa-trie>=1.1.0 in /Users/alex/miniconda3/envs/schahar/lib/python3.10/site-packages (from language-data>=1.2->langcodes<4.0.0,>=3.2.0->spacy) (1.2.1)\n",
      "Requirement already satisfied: markdown-it-py>=2.2.0 in /Users/alex/miniconda3/envs/schahar/lib/python3.10/site-packages (from rich>=10.11.0->typer<1.0.0,>=0.3.0->spacy) (3.0.0)\n",
      "Requirement already satisfied: pygments<3.0.0,>=2.13.0 in /Users/alex/miniconda3/envs/schahar/lib/python3.10/site-packages (from rich>=10.11.0->typer<1.0.0,>=0.3.0->spacy) (2.19.1)\n",
      "Requirement already satisfied: wrapt in /Users/alex/miniconda3/envs/schahar/lib/python3.10/site-packages (from smart-open<8.0.0,>=5.2.1->weasel<0.5.0,>=0.1.0->spacy) (1.17.2)\n",
      "Requirement already satisfied: mdurl~=0.1 in /Users/alex/miniconda3/envs/schahar/lib/python3.10/site-packages (from markdown-it-py>=2.2.0->rich>=10.11.0->typer<1.0.0,>=0.3.0->spacy) (0.1.2)\n",
      "Collecting openai\n",
      "  Obtaining dependency information for openai from https://files.pythonhosted.org/packages/59/aa/84e02ab500ca871eb8f62784426963a1c7c17a72fea3c7f268af4bbaafa5/openai-1.76.0-py3-none-any.whl.metadata\n",
      "  Downloading openai-1.76.0-py3-none-any.whl.metadata (25 kB)\n",
      "Collecting anyio<5,>=3.5.0 (from openai)\n",
      "  Obtaining dependency information for anyio<5,>=3.5.0 from https://files.pythonhosted.org/packages/a1/ee/48ca1a7c89ffec8b6a0c5d02b89c305671d5ffd8d3c94acf8b8c408575bb/anyio-4.9.0-py3-none-any.whl.metadata\n",
      "  Downloading anyio-4.9.0-py3-none-any.whl.metadata (4.7 kB)\n",
      "Collecting distro<2,>=1.7.0 (from openai)\n",
      "  Obtaining dependency information for distro<2,>=1.7.0 from https://files.pythonhosted.org/packages/12/b3/231ffd4ab1fc9d679809f356cebee130ac7daa00d6d6f3206dd4fd137e9e/distro-1.9.0-py3-none-any.whl.metadata\n",
      "  Downloading distro-1.9.0-py3-none-any.whl.metadata (6.8 kB)\n",
      "Collecting httpx<1,>=0.23.0 (from openai)\n",
      "  Obtaining dependency information for httpx<1,>=0.23.0 from https://files.pythonhosted.org/packages/2a/39/e50c7c3a983047577ee07d2a9e53faf5a69493943ec3f6a384bdc792deb2/httpx-0.28.1-py3-none-any.whl.metadata\n",
      "  Downloading httpx-0.28.1-py3-none-any.whl.metadata (7.1 kB)\n",
      "Collecting jiter<1,>=0.4.0 (from openai)\n",
      "  Obtaining dependency information for jiter<1,>=0.4.0 from https://files.pythonhosted.org/packages/01/07/7bf6022c5a152fca767cf5c086bb41f7c28f70cf33ad259d023b53c0b858/jiter-0.9.0-cp310-cp310-macosx_11_0_arm64.whl.metadata\n",
      "  Downloading jiter-0.9.0-cp310-cp310-macosx_11_0_arm64.whl.metadata (5.2 kB)\n",
      "Requirement already satisfied: pydantic<3,>=1.9.0 in /Users/alex/miniconda3/envs/schahar/lib/python3.10/site-packages (from openai) (2.6.4)\n",
      "Collecting sniffio (from openai)\n",
      "  Obtaining dependency information for sniffio from https://files.pythonhosted.org/packages/e9/44/75a9c9421471a6c4805dbf2356f7c181a29c1879239abab1ea2cc8f38b40/sniffio-1.3.1-py3-none-any.whl.metadata\n",
      "  Downloading sniffio-1.3.1-py3-none-any.whl.metadata (3.9 kB)\n",
      "Requirement already satisfied: tqdm>4 in /Users/alex/miniconda3/envs/schahar/lib/python3.10/site-packages (from openai) (4.66.2)\n",
      "Collecting typing-extensions<5,>=4.11 (from openai)\n",
      "  Obtaining dependency information for typing-extensions<5,>=4.11 from https://files.pythonhosted.org/packages/8b/54/b1ae86c0973cc6f0210b53d508ca3641fb6d0c56823f288d108bc7ab3cc8/typing_extensions-4.13.2-py3-none-any.whl.metadata\n",
      "  Downloading typing_extensions-4.13.2-py3-none-any.whl.metadata (3.0 kB)\n",
      "Requirement already satisfied: exceptiongroup>=1.0.2 in /Users/alex/miniconda3/envs/schahar/lib/python3.10/site-packages (from anyio<5,>=3.5.0->openai) (1.2.2)\n",
      "Requirement already satisfied: idna>=2.8 in /Users/alex/miniconda3/envs/schahar/lib/python3.10/site-packages (from anyio<5,>=3.5.0->openai) (3.6)\n",
      "Requirement already satisfied: certifi in /Users/alex/miniconda3/envs/schahar/lib/python3.10/site-packages (from httpx<1,>=0.23.0->openai) (2024.2.2)\n",
      "Collecting httpcore==1.* (from httpx<1,>=0.23.0->openai)\n",
      "  Obtaining dependency information for httpcore==1.* from https://files.pythonhosted.org/packages/7e/f5/f66802a942d491edb555dd61e3a9961140fd64c90bce1eafd741609d334d/httpcore-1.0.9-py3-none-any.whl.metadata\n",
      "  Downloading httpcore-1.0.9-py3-none-any.whl.metadata (21 kB)\n",
      "Collecting h11>=0.16 (from httpcore==1.*->httpx<1,>=0.23.0->openai)\n",
      "  Obtaining dependency information for h11>=0.16 from https://files.pythonhosted.org/packages/04/4b/29cac41a4d98d144bf5f6d33995617b185d14b22401f75ca86f384e87ff1/h11-0.16.0-py3-none-any.whl.metadata\n",
      "  Downloading h11-0.16.0-py3-none-any.whl.metadata (8.3 kB)\n",
      "Requirement already satisfied: annotated-types>=0.4.0 in /Users/alex/miniconda3/envs/schahar/lib/python3.10/site-packages (from pydantic<3,>=1.9.0->openai) (0.6.0)\n",
      "Requirement already satisfied: pydantic-core==2.16.3 in /Users/alex/miniconda3/envs/schahar/lib/python3.10/site-packages (from pydantic<3,>=1.9.0->openai) (2.16.3)\n",
      "Downloading openai-1.76.0-py3-none-any.whl (661 kB)\n",
      "\u001b[2K   \u001b[38;2;114;156;31m━━━━━━━━━━━━━━━━━━━━━━━━━━━━━━━━━━━━━━━━\u001b[0m \u001b[32m661.2/661.2 kB\u001b[0m \u001b[31m8.6 MB/s\u001b[0m eta \u001b[36m0:00:00\u001b[0mm eta \u001b[36m0:00:01\u001b[0m0:01\u001b[0m\n",
      "\u001b[?25hDownloading anyio-4.9.0-py3-none-any.whl (100 kB)\n",
      "\u001b[2K   \u001b[38;2;114;156;31m━━━━━━━━━━━━━━━━━━━━━━━━━━━━━━━━━━━━━━━━\u001b[0m \u001b[32m100.9/100.9 kB\u001b[0m \u001b[31m6.3 MB/s\u001b[0m eta \u001b[36m0:00:00\u001b[0m\n",
      "\u001b[?25hDownloading distro-1.9.0-py3-none-any.whl (20 kB)\n",
      "Downloading httpx-0.28.1-py3-none-any.whl (73 kB)\n",
      "\u001b[2K   \u001b[38;2;114;156;31m━━━━━━━━━━━━━━━━━━━━━━━━━━━━━━━━━━━━━━━━\u001b[0m \u001b[32m73.5/73.5 kB\u001b[0m \u001b[31m4.7 MB/s\u001b[0m eta \u001b[36m0:00:00\u001b[0m\n",
      "\u001b[?25hDownloading httpcore-1.0.9-py3-none-any.whl (78 kB)\n",
      "\u001b[2K   \u001b[38;2;114;156;31m━━━━━━━━━━━━━━━━━━━━━━━━━━━━━━━━━━━━━━━━\u001b[0m \u001b[32m78.8/78.8 kB\u001b[0m \u001b[31m5.9 MB/s\u001b[0m eta \u001b[36m0:00:00\u001b[0m\n",
      "\u001b[?25hDownloading jiter-0.9.0-cp310-cp310-macosx_11_0_arm64.whl (321 kB)\n",
      "\u001b[2K   \u001b[38;2;114;156;31m━━━━━━━━━━━━━━━━━━━━━━━━━━━━━━━━━━━━━━━━\u001b[0m \u001b[32m321.1/321.1 kB\u001b[0m \u001b[31m10.6 MB/s\u001b[0m eta \u001b[36m0:00:00\u001b[0m\n",
      "\u001b[?25hDownloading sniffio-1.3.1-py3-none-any.whl (10 kB)\n",
      "Downloading typing_extensions-4.13.2-py3-none-any.whl (45 kB)\n",
      "\u001b[2K   \u001b[38;2;114;156;31m━━━━━━━━━━━━━━━━━━━━━━━━━━━━━━━━━━━━━━━━\u001b[0m \u001b[32m45.8/45.8 kB\u001b[0m \u001b[31m3.0 MB/s\u001b[0m eta \u001b[36m0:00:00\u001b[0m\n",
      "\u001b[?25hDownloading h11-0.16.0-py3-none-any.whl (37 kB)\n",
      "Installing collected packages: typing-extensions, sniffio, jiter, h11, distro, httpcore, anyio, httpx, openai\n",
      "  Attempting uninstall: typing-extensions\n",
      "    Found existing installation: typing_extensions 4.10.0\n",
      "    Uninstalling typing_extensions-4.10.0:\n",
      "      Successfully uninstalled typing_extensions-4.10.0\n",
      "Successfully installed anyio-4.9.0 distro-1.9.0 h11-0.16.0 httpcore-1.0.9 httpx-0.28.1 jiter-0.9.0 openai-1.76.0 sniffio-1.3.1 typing-extensions-4.13.2\n",
      "\n",
      "A module that was compiled using NumPy 1.x cannot be run in\n",
      "NumPy 2.2.5 as it may crash. To support both 1.x and 2.x\n",
      "versions of NumPy, modules must be compiled with NumPy 2.0.\n",
      "Some module may need to rebuild instead e.g. with 'pybind11>=2.12'.\n",
      "\n",
      "If you are a user of the module, the easiest solution will be to\n",
      "downgrade to 'numpy<2' or try to upgrade the affected module.\n",
      "We expect that some modules will need time to support NumPy 2.\n",
      "\n",
      "Traceback (most recent call last):  File \"/Users/alex/miniconda3/envs/schahar/lib/python3.10/runpy.py\", line 187, in _run_module_as_main\n",
      "    mod_name, mod_spec, code = _get_module_details(mod_name, _Error)\n",
      "  File \"/Users/alex/miniconda3/envs/schahar/lib/python3.10/runpy.py\", line 146, in _get_module_details\n",
      "    return _get_module_details(pkg_main_name, error)\n",
      "  File \"/Users/alex/miniconda3/envs/schahar/lib/python3.10/runpy.py\", line 110, in _get_module_details\n",
      "    __import__(pkg_name)\n",
      "  File \"/Users/alex/miniconda3/envs/schahar/lib/python3.10/site-packages/spacy/__init__.py\", line 6, in <module>\n",
      "    from .errors import setup_default_warnings\n",
      "  File \"/Users/alex/miniconda3/envs/schahar/lib/python3.10/site-packages/spacy/errors.py\", line 3, in <module>\n",
      "    from .compat import Literal\n",
      "  File \"/Users/alex/miniconda3/envs/schahar/lib/python3.10/site-packages/spacy/compat.py\", line 4, in <module>\n",
      "    from thinc.util import copy_array\n",
      "  File \"/Users/alex/miniconda3/envs/schahar/lib/python3.10/site-packages/thinc/__init__.py\", line 5, in <module>\n",
      "    from .config import registry\n",
      "  File \"/Users/alex/miniconda3/envs/schahar/lib/python3.10/site-packages/thinc/config.py\", line 5, in <module>\n",
      "    from .types import Decorator\n",
      "  File \"/Users/alex/miniconda3/envs/schahar/lib/python3.10/site-packages/thinc/types.py\", line 27, in <module>\n",
      "    from .compat import cupy, has_cupy\n",
      "  File \"/Users/alex/miniconda3/envs/schahar/lib/python3.10/site-packages/thinc/compat.py\", line 35, in <module>\n",
      "    import torch\n",
      "  File \"/Users/alex/miniconda3/envs/schahar/lib/python3.10/site-packages/torch/__init__.py\", line 1477, in <module>\n",
      "    from .functional import *  # noqa: F403\n",
      "  File \"/Users/alex/miniconda3/envs/schahar/lib/python3.10/site-packages/torch/functional.py\", line 9, in <module>\n",
      "    import torch.nn.functional as F\n",
      "  File \"/Users/alex/miniconda3/envs/schahar/lib/python3.10/site-packages/torch/nn/__init__.py\", line 1, in <module>\n",
      "    from .modules import *  # noqa: F403\n",
      "  File \"/Users/alex/miniconda3/envs/schahar/lib/python3.10/site-packages/torch/nn/modules/__init__.py\", line 35, in <module>\n",
      "    from .transformer import TransformerEncoder, TransformerDecoder, \\\n",
      "  File \"/Users/alex/miniconda3/envs/schahar/lib/python3.10/site-packages/torch/nn/modules/transformer.py\", line 20, in <module>\n",
      "    device: torch.device = torch.device(torch._C._get_default_device()),  # torch.device('cpu'),\n",
      "/Users/alex/miniconda3/envs/schahar/lib/python3.10/site-packages/torch/nn/modules/transformer.py:20: UserWarning: Failed to initialize NumPy: _ARRAY_API not found (Triggered internally at /Users/runner/work/pytorch/pytorch/pytorch/torch/csrc/utils/tensor_numpy.cpp:84.)\n",
      "  device: torch.device = torch.device(torch._C._get_default_device()),  # torch.device('cpu'),\n",
      "Collecting en-core-web-sm==3.8.0\n",
      "  Using cached https://github.com/explosion/spacy-models/releases/download/en_core_web_sm-3.8.0/en_core_web_sm-3.8.0-py3-none-any.whl (12.8 MB)\n",
      "\u001b[38;5;2m✔ Download and installation successful\u001b[0m\n",
      "You can now load the package via spacy.load('en_core_web_sm')\n"
     ]
    }
   ],
   "source": [
    "! pip install spacy\n",
    "! pip install openai\n",
    "!python -m spacy download en_core_web_sm\n",
    "\n"
   ]
  },
  {
   "cell_type": "code",
   "execution_count": 7,
   "metadata": {},
   "outputs": [],
   "source": [
    "import spacy\n",
    "from tqdm import tqdm\n",
    "import openai\n",
    "\n",
    "# Load spaCy model for English\n",
    "nlp = spacy.load(\"en_core_web_sm\")\n"
   ]
  },
  {
   "cell_type": "code",
   "execution_count": 2,
   "metadata": {},
   "outputs": [
    {
     "name": "stdout",
     "output_type": "stream",
     "text": [
      "/Users/alex/miniconda3/envs/schahar/bin/pip\n",
      "/Users/alex/miniconda3/envs/schahar/bin/python\n",
      "nltk not found\n"
     ]
    }
   ],
   "source": [
    "!which pip\n",
    "!which python\n",
    "!which nltk"
   ]
  },
  {
   "cell_type": "code",
   "execution_count": 11,
   "metadata": {},
   "outputs": [
    {
     "name": "stderr",
     "output_type": "stream",
     "text": [
      "Segmenting sentences: 2it [00:00, 11169.92it/s]"
     ]
    },
    {
     "name": "stdout",
     "output_type": "stream",
     "text": [
      "\n",
      "Found ['I am Alex.', 'You are Annika'] sentences\n"
     ]
    },
    {
     "name": "stderr",
     "output_type": "stream",
     "text": [
      "\n"
     ]
    }
   ],
   "source": [
    "\n",
    "import os\n",
    "import spacy\n",
    "from tqdm import tqdm\n",
    "\n",
    "# Load spaCy model for English\n",
    "nlp = spacy.load(\"en_core_web_sm\")\n",
    "\n",
    "def segment_sentences(text):\n",
    "    # Process text with spaCy\n",
    "    doc = nlp(text)\n",
    "    \n",
    "    # Extract sentences with progress bar\n",
    "    sentences = []\n",
    "    for sent in tqdm(doc.sents, desc=\"Segmenting sentences\"):\n",
    "        sentences.append(sent.text.strip())\n",
    "        \n",
    "    return sentences\n",
    "\n",
    "# Example usage:\n",
    "if text:\n",
    "    sentences = segment_sentences(text)\n",
    "    print(f\"\\nFound {sentences} sentences\")\n"
   ]
  },
  {
   "cell_type": "code",
   "execution_count": 12,
   "metadata": {},
   "outputs": [
    {
     "name": "stdout",
     "output_type": "stream",
     "text": [
      "convert to present simple\n",
      "converting I am Alex.\n",
      "ChatCompletion(id='chatcmpl-BRKSKtOMsWhTD8tviwSFRkwb9nI0j', choices=[Choice(finish_reason='stop', index=0, logprobs=None, message=ChatCompletionMessage(content='I am Alex. (The sentence is already in the present simple tense.)', refusal=None, role='assistant', annotations=[], audio=None, function_call=None, tool_calls=None))], created=1745853188, model='gpt-4o-mini-2024-07-18', object='chat.completion', service_tier='default', system_fingerprint='fp_0392822090', usage=CompletionUsage(completion_tokens=16, prompt_tokens=19, total_tokens=35, completion_tokens_details=CompletionTokensDetails(accepted_prediction_tokens=0, audio_tokens=0, reasoning_tokens=0, rejected_prediction_tokens=0), prompt_tokens_details=PromptTokensDetails(audio_tokens=0, cached_tokens=0)))\n",
      "converted I am Alex.\n",
      "---\n",
      "converting You are Annika\n",
      "ChatCompletion(id='chatcmpl-BRKSLGYfjWndvVKqQh6B2JG8nnUYM', choices=[Choice(finish_reason='stop', index=0, logprobs=None, message=ChatCompletionMessage(content='You are Annika. (The sentence is already in the present simple tense.)', refusal=None, role='assistant', annotations=[], audio=None, function_call=None, tool_calls=None))], created=1745853189, model='gpt-4o-mini-2024-07-18', object='chat.completion', service_tier='default', system_fingerprint='fp_0392822090', usage=CompletionUsage(completion_tokens=17, prompt_tokens=19, total_tokens=36, completion_tokens_details=CompletionTokensDetails(accepted_prediction_tokens=0, audio_tokens=0, reasoning_tokens=0, rejected_prediction_tokens=0), prompt_tokens_details=PromptTokensDetails(audio_tokens=0, cached_tokens=0)))\n",
      "converted You are Annika\n",
      "---\n"
     ]
    }
   ],
   "source": [
    "# for each sentence, conv\n",
    "tenses = [\n",
    "    \"present simple\",\n",
    "    \"past simple\"\n",
    "    \"future simple\",\n",
    "    \"present continuous\",\n",
    "    \"past continuous\",\n",
    "    \"future continuous\",\n",
    "    \"present perfect\",\n",
    "    \"past perfect\",\n",
    "    \"future perfect\",\n",
    "    \"present perfect continuous\",\n",
    "    \"past perfect continuous\",\n",
    "    \"future perfect continuous\",\n",
    "]\n",
    "\n",
    "chosen_tense = 0\n",
    "print(\"convert to\", tenses[chosen_tense])\n",
    "\n",
    "# for each sentence, ask openai to convert it to the given tense using openai\n",
    "for sentence in sentences:\n",
    "    print(\"converting\", sentence)\n",
    "    print(openai.chat.completions.create(\n",
    "        model=\"gpt-4o-mini\",\n",
    "        messages=[{\"role\": \"user\", \"content\": f\"Convert the following sentence to {tenses[chosen_tense]}: {sentence}\"}]\n",
    "    ))\n",
    "    print(\"converted\", sentence)\n",
    "    print(\"---\")\n"
   ]
  },
  {
   "cell_type": "code",
   "execution_count": 14,
   "metadata": {},
   "outputs": [
    {
     "name": "stdout",
     "output_type": "stream",
     "text": [
      "convert to present simple\n",
      "converting I am Alex.\n",
      "ChatCompletion(id='chatcmpl-BRKSSONFM7W0SbOJvjYgvJHdV4lTM', choices=[Choice(finish_reason='stop', index=0, logprobs=None, message=ChatCompletionMessage(content='I am Alex. (The sentence is already in the present simple tense.)', refusal=None, role='assistant', annotations=[], audio=None, function_call=None, tool_calls=None))], created=1745853196, model='gpt-4o-mini-2024-07-18', object='chat.completion', service_tier='default', system_fingerprint='fp_0392822090', usage=CompletionUsage(completion_tokens=16, prompt_tokens=19, total_tokens=35, completion_tokens_details=CompletionTokensDetails(accepted_prediction_tokens=0, audio_tokens=0, reasoning_tokens=0, rejected_prediction_tokens=0), prompt_tokens_details=PromptTokensDetails(audio_tokens=0, cached_tokens=0)))\n",
      "converted I am Alex.\n",
      "---\n",
      "converting You are Annika\n",
      "ChatCompletion(id='chatcmpl-BRKSTSQw7zlpLC4G5YFeHqX4OBxcm', choices=[Choice(finish_reason='stop', index=0, logprobs=None, message=ChatCompletionMessage(content='You are Annika. (The sentence is already in the present simple tense.)', refusal=None, role='assistant', annotations=[], audio=None, function_call=None, tool_calls=None))], created=1745853197, model='gpt-4o-mini-2024-07-18', object='chat.completion', service_tier='default', system_fingerprint='fp_0392822090', usage=CompletionUsage(completion_tokens=17, prompt_tokens=19, total_tokens=36, completion_tokens_details=CompletionTokensDetails(accepted_prediction_tokens=0, audio_tokens=0, reasoning_tokens=0, rejected_prediction_tokens=0), prompt_tokens_details=PromptTokensDetails(audio_tokens=0, cached_tokens=0)))\n",
      "converted You are Annika\n",
      "---\n"
     ]
    }
   ],
   "source": [
    "# for each sentence, conv\n",
    "tenses = [\n",
    "    \"present simple\",\n",
    "    \"past simple\"\n",
    "    \"future simple\",\n",
    "    \"present continuous\",\n",
    "    \"past continuous\",\n",
    "    \"future continuous\",\n",
    "    \"present perfect\",\n",
    "    \"past perfect\",\n",
    "    \"future perfect\",\n",
    "    \"present perfect continuous\",\n",
    "    \"past perfect continuous\",\n",
    "    \"future perfect continuous\",\n",
    "]\n",
    "\n",
    "chosen_tense = 0\n",
    "print(\"convert to\", tenses[chosen_tense])\n",
    "\n",
    "# for each sentence, ask openai to convert it to the given tense using openai\n",
    "for sentence in sentences:\n",
    "    print(\"converting\", sentence)\n",
    "    print(openai.chat.completions.create(\n",
    "        model=\"gpt-4o-mini\",\n",
    "        messages=[{\"role\": \"user\", \"content\": f\"Convert the following sentence to {tenses[chosen_tense]}: {sentence}\"}]\n",
    "    ))\n",
    "    print(\"converted\", sentence)\n",
    "    print(\"---\")\n"
   ]
  },
  {
   "cell_type": "code",
   "execution_count": null,
   "metadata": {},
   "outputs": [
    {
     "name": "stdout",
     "output_type": "stream",
     "text": [
      "convert to present simple\n",
      "converting I am Alex.\n"
     ]
    },
    {
     "ename": "AttributeError",
     "evalue": "module 'openai' has no attribute 'chat'",
     "output_type": "error",
     "traceback": [
      "\u001b[0;31m---------------------------------------------------------------------------\u001b[0m\n",
      "\u001b[0;31mAttributeError\u001b[0m                            Traceback (most recent call last)\n",
      "Input \u001b[0;32mIn [35]\u001b[0m, in \u001b[0;36m<cell line: 21>\u001b[0;34m()\u001b[0m\n",
      "\u001b[1;32m     21\u001b[0m \u001b[38;5;28;01mfor\u001b[39;00m sentence \u001b[38;5;129;01min\u001b[39;00m sentences:\n",
      "\u001b[1;32m     22\u001b[0m     \u001b[38;5;28mprint\u001b[39m(\u001b[38;5;124m\"\u001b[39m\u001b[38;5;124mconverting\u001b[39m\u001b[38;5;124m\"\u001b[39m, sentence)\n",
      "\u001b[0;32m---> 23\u001b[0m     \u001b[38;5;28mprint\u001b[39m(\u001b[43mopenai\u001b[49m\u001b[38;5;241;43m.\u001b[39;49m\u001b[43mchat\u001b[49m\u001b[38;5;241m.\u001b[39mcompletions\u001b[38;5;241m.\u001b[39mcreate(\n",
      "\u001b[1;32m     24\u001b[0m         model\u001b[38;5;241m=\u001b[39m\u001b[38;5;124m\"\u001b[39m\u001b[38;5;124mgpt-4o-mini\u001b[39m\u001b[38;5;124m\"\u001b[39m,\n",
      "\u001b[1;32m     25\u001b[0m         messages\u001b[38;5;241m=\u001b[39m[{\u001b[38;5;124m\"\u001b[39m\u001b[38;5;124mrole\u001b[39m\u001b[38;5;124m\"\u001b[39m: \u001b[38;5;124m\"\u001b[39m\u001b[38;5;124muser\u001b[39m\u001b[38;5;124m\"\u001b[39m, \u001b[38;5;124m\"\u001b[39m\u001b[38;5;124mcontent\u001b[39m\u001b[38;5;124m\"\u001b[39m: \u001b[38;5;124mf\u001b[39m\u001b[38;5;124m\"\u001b[39m\u001b[38;5;124mConvert the following sentence to \u001b[39m\u001b[38;5;132;01m{\u001b[39;00mtenses[chosen_tense]\u001b[38;5;132;01m}\u001b[39;00m\u001b[38;5;124m: \u001b[39m\u001b[38;5;132;01m{\u001b[39;00msentence\u001b[38;5;132;01m}\u001b[39;00m\u001b[38;5;124m\"\u001b[39m}]\n",
      "\u001b[1;32m     26\u001b[0m     ))\n",
      "\u001b[1;32m     27\u001b[0m     \u001b[38;5;28mprint\u001b[39m(\u001b[38;5;124m\"\u001b[39m\u001b[38;5;124mconverted\u001b[39m\u001b[38;5;124m\"\u001b[39m, sentence)\n",
      "\u001b[1;32m     28\u001b[0m     \u001b[38;5;28mprint\u001b[39m(\u001b[38;5;124m\"\u001b[39m\u001b[38;5;124m---\u001b[39m\u001b[38;5;124m\"\u001b[39m)\n",
      "\n",
      "\u001b[0;31mAttributeError\u001b[0m: module 'openai' has no attribute 'chat'"
     ]
    }
   ],
   "source": [
    "# for each sentence, conv\n",
    "tenses = [\n",
    "    \"present simple\",\n",
    "    \"past simple\"\n",
    "    \"future simple\",\n",
    "    \"present continuous\",\n",
    "    \"past continuous\",\n",
    "    \"future continuous\",\n",
    "    \"present perfect\",\n",
    "    \"past perfect\",\n",
    "    \"future perfect\",\n",
    "    \"present perfect continuous\",\n",
    "    \"past perfect continuous\",\n",
    "    \"future perfect continuous\",\n",
    "]\n",
    "\n",
    "chosen_tense = 0\n",
    "print(\"convert to\", tenses[chosen_tense])\n",
    "\n",
    "# for each sentence, ask openai to convert it to the given tense using openai\n",
    "for sentence in sentences:\n",
    "    print(\"converting\", sentence)\n",
    "    print(openai.chat.completions.create(\n",
    "        model=\"gpt-4o-mini\",\n",
    "        messages=[{\"role\": \"user\", \"content\": f\"Convert the following sentence to {tenses[chosen_tense]}: {sentence}\"}]\n",
    "    ))\n",
    "    print(\"converted\", sentence)\n",
    "    print(\"---\")\n"
   ]
  },
  {
   "cell_type": "code",
   "execution_count": null,
   "metadata": {},
   "outputs": [
    {
     "name": "stdout",
     "output_type": "stream",
     "text": [
      "convert to present simple\n",
      "converting I am Alex.\n"
     ]
    },
    {
     "ename": "AttributeError",
     "evalue": "module 'openai' has no attribute 'chat'",
     "output_type": "error",
     "traceback": [
      "\u001b[0;31m---------------------------------------------------------------------------\u001b[0m\n",
      "\u001b[0;31mAttributeError\u001b[0m                            Traceback (most recent call last)\n",
      "Input \u001b[0;32mIn [35]\u001b[0m, in \u001b[0;36m<cell line: 21>\u001b[0;34m()\u001b[0m\n",
      "\u001b[1;32m     21\u001b[0m \u001b[38;5;28;01mfor\u001b[39;00m sentence \u001b[38;5;129;01min\u001b[39;00m sentences:\n",
      "\u001b[1;32m     22\u001b[0m     \u001b[38;5;28mprint\u001b[39m(\u001b[38;5;124m\"\u001b[39m\u001b[38;5;124mconverting\u001b[39m\u001b[38;5;124m\"\u001b[39m, sentence)\n",
      "\u001b[0;32m---> 23\u001b[0m     \u001b[38;5;28mprint\u001b[39m(\u001b[43mopenai\u001b[49m\u001b[38;5;241;43m.\u001b[39;49m\u001b[43mchat\u001b[49m\u001b[38;5;241m.\u001b[39mcompletions\u001b[38;5;241m.\u001b[39mcreate(\n",
      "\u001b[1;32m     24\u001b[0m         model\u001b[38;5;241m=\u001b[39m\u001b[38;5;124m\"\u001b[39m\u001b[38;5;124mgpt-4o-mini\u001b[39m\u001b[38;5;124m\"\u001b[39m,\n",
      "\u001b[1;32m     25\u001b[0m         messages\u001b[38;5;241m=\u001b[39m[{\u001b[38;5;124m\"\u001b[39m\u001b[38;5;124mrole\u001b[39m\u001b[38;5;124m\"\u001b[39m: \u001b[38;5;124m\"\u001b[39m\u001b[38;5;124muser\u001b[39m\u001b[38;5;124m\"\u001b[39m, \u001b[38;5;124m\"\u001b[39m\u001b[38;5;124mcontent\u001b[39m\u001b[38;5;124m\"\u001b[39m: \u001b[38;5;124mf\u001b[39m\u001b[38;5;124m\"\u001b[39m\u001b[38;5;124mConvert the following sentence to \u001b[39m\u001b[38;5;132;01m{\u001b[39;00mtenses[chosen_tense]\u001b[38;5;132;01m}\u001b[39;00m\u001b[38;5;124m: \u001b[39m\u001b[38;5;132;01m{\u001b[39;00msentence\u001b[38;5;132;01m}\u001b[39;00m\u001b[38;5;124m\"\u001b[39m}]\n",
      "\u001b[1;32m     26\u001b[0m     ))\n",
      "\u001b[1;32m     27\u001b[0m     \u001b[38;5;28mprint\u001b[39m(\u001b[38;5;124m\"\u001b[39m\u001b[38;5;124mconverted\u001b[39m\u001b[38;5;124m\"\u001b[39m, sentence)\n",
      "\u001b[1;32m     28\u001b[0m     \u001b[38;5;28mprint\u001b[39m(\u001b[38;5;124m\"\u001b[39m\u001b[38;5;124m---\u001b[39m\u001b[38;5;124m\"\u001b[39m)\n",
      "\n",
      "\u001b[0;31mAttributeError\u001b[0m: module 'openai' has no attribute 'chat'"
     ]
    }
   ],
   "source": [
    "# for each sentence, conv\n",
    "tenses = [\n",
    "    \"present simple\",\n",
    "    \"past simple\"\n",
    "    \"future simple\",\n",
    "    \"present continuous\",\n",
    "    \"past continuous\",\n",
    "    \"future continuous\",\n",
    "    \"present perfect\",\n",
    "    \"past perfect\",\n",
    "    \"future perfect\",\n",
    "    \"present perfect continuous\",\n",
    "    \"past perfect continuous\",\n",
    "    \"future perfect continuous\",\n",
    "]\n",
    "\n",
    "chosen_tense = 0\n",
    "print(\"convert to\", tenses[chosen_tense])\n",
    "\n",
    "# for each sentence, ask openai to convert it to the given tense using openai\n",
    "for sentence in sentences:\n",
    "    print(\"converting\", sentence)\n",
    "    print(openai.chat.completions.create(\n",
    "        model=\"gpt-4o-mini\",\n",
    "        messages=[{\"role\": \"user\", \"content\": f\"Convert the following sentence to {tenses[chosen_tense]}: {sentence}\"}]\n",
    "    ))\n",
    "    print(\"converted\", sentence)\n",
    "    print(\"---\")\n"
   ]
  },
  {
   "cell_type": "code",
   "execution_count": null,
   "metadata": {},
   "outputs": [
    {
     "name": "stdout",
     "output_type": "stream",
     "text": [
      "convert to present simple\n",
      "converting I am Alex.\n"
     ]
    },
    {
     "ename": "AttributeError",
     "evalue": "module 'openai' has no attribute 'chat'",
     "output_type": "error",
     "traceback": [
      "\u001b[0;31m---------------------------------------------------------------------------\u001b[0m\n",
      "\u001b[0;31mAttributeError\u001b[0m                            Traceback (most recent call last)\n",
      "Input \u001b[0;32mIn [35]\u001b[0m, in \u001b[0;36m<cell line: 21>\u001b[0;34m()\u001b[0m\n",
      "\u001b[1;32m     21\u001b[0m \u001b[38;5;28;01mfor\u001b[39;00m sentence \u001b[38;5;129;01min\u001b[39;00m sentences:\n",
      "\u001b[1;32m     22\u001b[0m     \u001b[38;5;28mprint\u001b[39m(\u001b[38;5;124m\"\u001b[39m\u001b[38;5;124mconverting\u001b[39m\u001b[38;5;124m\"\u001b[39m, sentence)\n",
      "\u001b[0;32m---> 23\u001b[0m     \u001b[38;5;28mprint\u001b[39m(\u001b[43mopenai\u001b[49m\u001b[38;5;241;43m.\u001b[39;49m\u001b[43mchat\u001b[49m\u001b[38;5;241m.\u001b[39mcompletions\u001b[38;5;241m.\u001b[39mcreate(\n",
      "\u001b[1;32m     24\u001b[0m         model\u001b[38;5;241m=\u001b[39m\u001b[38;5;124m\"\u001b[39m\u001b[38;5;124mgpt-4o-mini\u001b[39m\u001b[38;5;124m\"\u001b[39m,\n",
      "\u001b[1;32m     25\u001b[0m         messages\u001b[38;5;241m=\u001b[39m[{\u001b[38;5;124m\"\u001b[39m\u001b[38;5;124mrole\u001b[39m\u001b[38;5;124m\"\u001b[39m: \u001b[38;5;124m\"\u001b[39m\u001b[38;5;124muser\u001b[39m\u001b[38;5;124m\"\u001b[39m, \u001b[38;5;124m\"\u001b[39m\u001b[38;5;124mcontent\u001b[39m\u001b[38;5;124m\"\u001b[39m: \u001b[38;5;124mf\u001b[39m\u001b[38;5;124m\"\u001b[39m\u001b[38;5;124mConvert the following sentence to \u001b[39m\u001b[38;5;132;01m{\u001b[39;00mtenses[chosen_tense]\u001b[38;5;132;01m}\u001b[39;00m\u001b[38;5;124m: \u001b[39m\u001b[38;5;132;01m{\u001b[39;00msentence\u001b[38;5;132;01m}\u001b[39;00m\u001b[38;5;124m\"\u001b[39m}]\n",
      "\u001b[1;32m     26\u001b[0m     ))\n",
      "\u001b[1;32m     27\u001b[0m     \u001b[38;5;28mprint\u001b[39m(\u001b[38;5;124m\"\u001b[39m\u001b[38;5;124mconverted\u001b[39m\u001b[38;5;124m\"\u001b[39m, sentence)\n",
      "\u001b[1;32m     28\u001b[0m     \u001b[38;5;28mprint\u001b[39m(\u001b[38;5;124m\"\u001b[39m\u001b[38;5;124m---\u001b[39m\u001b[38;5;124m\"\u001b[39m)\n",
      "\n",
      "\u001b[0;31mAttributeError\u001b[0m: module 'openai' has no attribute 'chat'"
     ]
    }
   ],
   "source": [
    "# for each sentence, conv\n",
    "tenses = [\n",
    "    \"present simple\",\n",
    "    \"past simple\"\n",
    "    \"future simple\",\n",
    "    \"present continuous\",\n",
    "    \"past continuous\",\n",
    "    \"future continuous\",\n",
    "    \"present perfect\",\n",
    "    \"past perfect\",\n",
    "    \"future perfect\",\n",
    "    \"present perfect continuous\",\n",
    "    \"past perfect continuous\",\n",
    "    \"future perfect continuous\",\n",
    "]\n",
    "\n",
    "chosen_tense = 0\n",
    "print(\"convert to\", tenses[chosen_tense])\n",
    "\n",
    "# for each sentence, ask openai to convert it to the given tense using openai\n",
    "for sentence in sentences:\n",
    "    print(\"converting\", sentence)\n",
    "    print(openai.chat.completions.create(\n",
    "        model=\"gpt-4o-mini\",\n",
    "        messages=[{\"role\": \"user\", \"content\": f\"Convert the following sentence to {tenses[chosen_tense]}: {sentence}\"}]\n",
    "    ))\n",
    "    print(\"converted\", sentence)\n",
    "    print(\"---\")\n"
   ]
  },
  {
   "cell_type": "code",
   "execution_count": null,
   "metadata": {},
   "outputs": [
    {
     "name": "stdout",
     "output_type": "stream",
     "text": [
      "convert to present simple\n",
      "converting I am Alex.\n"
     ]
    },
    {
     "ename": "AttributeError",
     "evalue": "module 'openai' has no attribute 'chat'",
     "output_type": "error",
     "traceback": [
      "\u001b[0;31m---------------------------------------------------------------------------\u001b[0m\n",
      "\u001b[0;31mAttributeError\u001b[0m                            Traceback (most recent call last)\n",
      "Input \u001b[0;32mIn [35]\u001b[0m, in \u001b[0;36m<cell line: 21>\u001b[0;34m()\u001b[0m\n",
      "\u001b[1;32m     21\u001b[0m \u001b[38;5;28;01mfor\u001b[39;00m sentence \u001b[38;5;129;01min\u001b[39;00m sentences:\n",
      "\u001b[1;32m     22\u001b[0m     \u001b[38;5;28mprint\u001b[39m(\u001b[38;5;124m\"\u001b[39m\u001b[38;5;124mconverting\u001b[39m\u001b[38;5;124m\"\u001b[39m, sentence)\n",
      "\u001b[0;32m---> 23\u001b[0m     \u001b[38;5;28mprint\u001b[39m(\u001b[43mopenai\u001b[49m\u001b[38;5;241;43m.\u001b[39;49m\u001b[43mchat\u001b[49m\u001b[38;5;241m.\u001b[39mcompletions\u001b[38;5;241m.\u001b[39mcreate(\n",
      "\u001b[1;32m     24\u001b[0m         model\u001b[38;5;241m=\u001b[39m\u001b[38;5;124m\"\u001b[39m\u001b[38;5;124mgpt-4o-mini\u001b[39m\u001b[38;5;124m\"\u001b[39m,\n",
      "\u001b[1;32m     25\u001b[0m         messages\u001b[38;5;241m=\u001b[39m[{\u001b[38;5;124m\"\u001b[39m\u001b[38;5;124mrole\u001b[39m\u001b[38;5;124m\"\u001b[39m: \u001b[38;5;124m\"\u001b[39m\u001b[38;5;124muser\u001b[39m\u001b[38;5;124m\"\u001b[39m, \u001b[38;5;124m\"\u001b[39m\u001b[38;5;124mcontent\u001b[39m\u001b[38;5;124m\"\u001b[39m: \u001b[38;5;124mf\u001b[39m\u001b[38;5;124m\"\u001b[39m\u001b[38;5;124mConvert the following sentence to \u001b[39m\u001b[38;5;132;01m{\u001b[39;00mtenses[chosen_tense]\u001b[38;5;132;01m}\u001b[39;00m\u001b[38;5;124m: \u001b[39m\u001b[38;5;132;01m{\u001b[39;00msentence\u001b[38;5;132;01m}\u001b[39;00m\u001b[38;5;124m\"\u001b[39m}]\n",
      "\u001b[1;32m     26\u001b[0m     ))\n",
      "\u001b[1;32m     27\u001b[0m     \u001b[38;5;28mprint\u001b[39m(\u001b[38;5;124m\"\u001b[39m\u001b[38;5;124mconverted\u001b[39m\u001b[38;5;124m\"\u001b[39m, sentence)\n",
      "\u001b[1;32m     28\u001b[0m     \u001b[38;5;28mprint\u001b[39m(\u001b[38;5;124m\"\u001b[39m\u001b[38;5;124m---\u001b[39m\u001b[38;5;124m\"\u001b[39m)\n",
      "\n",
      "\u001b[0;31mAttributeError\u001b[0m: module 'openai' has no attribute 'chat'"
     ]
    }
   ],
   "source": [
    "# for each sentence, conv\n",
    "tenses = [\n",
    "    \"present simple\",\n",
    "    \"past simple\"\n",
    "    \"future simple\",\n",
    "    \"present continuous\",\n",
    "    \"past continuous\",\n",
    "    \"future continuous\",\n",
    "    \"present perfect\",\n",
    "    \"past perfect\",\n",
    "    \"future perfect\",\n",
    "    \"present perfect continuous\",\n",
    "    \"past perfect continuous\",\n",
    "    \"future perfect continuous\",\n",
    "]\n",
    "\n",
    "chosen_tense = 0\n",
    "print(\"convert to\", tenses[chosen_tense])\n",
    "\n",
    "# for each sentence, ask openai to convert it to the given tense using openai\n",
    "for sentence in sentences:\n",
    "    print(\"converting\", sentence)\n",
    "    print(openai.chat.completions.create(\n",
    "        model=\"gpt-4o-mini\",\n",
    "        messages=[{\"role\": \"user\", \"content\": f\"Convert the following sentence to {tenses[chosen_tense]}: {sentence}\"}]\n",
    "    ))\n",
    "    print(\"converted\", sentence)\n",
    "    print(\"---\")\n"
   ]
  },
  {
   "cell_type": "code",
   "execution_count": null,
   "metadata": {},
   "outputs": [
    {
     "name": "stdout",
     "output_type": "stream",
     "text": [
      "convert to present simple\n",
      "converting I am Alex.\n"
     ]
    },
    {
     "ename": "AttributeError",
     "evalue": "module 'openai' has no attribute 'chat'",
     "output_type": "error",
     "traceback": [
      "\u001b[0;31m---------------------------------------------------------------------------\u001b[0m\n",
      "\u001b[0;31mAttributeError\u001b[0m                            Traceback (most recent call last)\n",
      "Input \u001b[0;32mIn [35]\u001b[0m, in \u001b[0;36m<cell line: 21>\u001b[0;34m()\u001b[0m\n",
      "\u001b[1;32m     21\u001b[0m \u001b[38;5;28;01mfor\u001b[39;00m sentence \u001b[38;5;129;01min\u001b[39;00m sentences:\n",
      "\u001b[1;32m     22\u001b[0m     \u001b[38;5;28mprint\u001b[39m(\u001b[38;5;124m\"\u001b[39m\u001b[38;5;124mconverting\u001b[39m\u001b[38;5;124m\"\u001b[39m, sentence)\n",
      "\u001b[0;32m---> 23\u001b[0m     \u001b[38;5;28mprint\u001b[39m(\u001b[43mopenai\u001b[49m\u001b[38;5;241;43m.\u001b[39;49m\u001b[43mchat\u001b[49m\u001b[38;5;241m.\u001b[39mcompletions\u001b[38;5;241m.\u001b[39mcreate(\n",
      "\u001b[1;32m     24\u001b[0m         model\u001b[38;5;241m=\u001b[39m\u001b[38;5;124m\"\u001b[39m\u001b[38;5;124mgpt-4o-mini\u001b[39m\u001b[38;5;124m\"\u001b[39m,\n",
      "\u001b[1;32m     25\u001b[0m         messages\u001b[38;5;241m=\u001b[39m[{\u001b[38;5;124m\"\u001b[39m\u001b[38;5;124mrole\u001b[39m\u001b[38;5;124m\"\u001b[39m: \u001b[38;5;124m\"\u001b[39m\u001b[38;5;124muser\u001b[39m\u001b[38;5;124m\"\u001b[39m, \u001b[38;5;124m\"\u001b[39m\u001b[38;5;124mcontent\u001b[39m\u001b[38;5;124m\"\u001b[39m: \u001b[38;5;124mf\u001b[39m\u001b[38;5;124m\"\u001b[39m\u001b[38;5;124mConvert the following sentence to \u001b[39m\u001b[38;5;132;01m{\u001b[39;00mtenses[chosen_tense]\u001b[38;5;132;01m}\u001b[39;00m\u001b[38;5;124m: \u001b[39m\u001b[38;5;132;01m{\u001b[39;00msentence\u001b[38;5;132;01m}\u001b[39;00m\u001b[38;5;124m\"\u001b[39m}]\n",
      "\u001b[1;32m     26\u001b[0m     ))\n",
      "\u001b[1;32m     27\u001b[0m     \u001b[38;5;28mprint\u001b[39m(\u001b[38;5;124m\"\u001b[39m\u001b[38;5;124mconverted\u001b[39m\u001b[38;5;124m\"\u001b[39m, sentence)\n",
      "\u001b[1;32m     28\u001b[0m     \u001b[38;5;28mprint\u001b[39m(\u001b[38;5;124m\"\u001b[39m\u001b[38;5;124m---\u001b[39m\u001b[38;5;124m\"\u001b[39m)\n",
      "\n",
      "\u001b[0;31mAttributeError\u001b[0m: module 'openai' has no attribute 'chat'"
     ]
    }
   ],
   "source": [
    "# for each sentence, conv\n",
    "tenses = [\n",
    "    \"present simple\",\n",
    "    \"past simple\"\n",
    "    \"future simple\",\n",
    "    \"present continuous\",\n",
    "    \"past continuous\",\n",
    "    \"future continuous\",\n",
    "    \"present perfect\",\n",
    "    \"past perfect\",\n",
    "    \"future perfect\",\n",
    "    \"present perfect continuous\",\n",
    "    \"past perfect continuous\",\n",
    "    \"future perfect continuous\",\n",
    "]\n",
    "\n",
    "chosen_tense = 0\n",
    "print(\"convert to\", tenses[chosen_tense])\n",
    "\n",
    "# for each sentence, ask openai to convert it to the given tense using openai\n",
    "for sentence in sentences:\n",
    "    print(\"converting\", sentence)\n",
    "    print(openai.chat.completions.create(\n",
    "        model=\"gpt-4o-mini\",\n",
    "        messages=[{\"role\": \"user\", \"content\": f\"Convert the following sentence to {tenses[chosen_tense]}: {sentence}\"}]\n",
    "    ))\n",
    "    print(\"converted\", sentence)\n",
    "    print(\"---\")\n"
   ]
  },
  {
   "cell_type": "code",
   "execution_count": null,
   "metadata": {},
   "outputs": [
    {
     "name": "stdout",
     "output_type": "stream",
     "text": [
      "convert to present simple\n",
      "converting I am Alex.\n"
     ]
    },
    {
     "ename": "AttributeError",
     "evalue": "module 'openai' has no attribute 'chat'",
     "output_type": "error",
     "traceback": [
      "\u001b[0;31m---------------------------------------------------------------------------\u001b[0m\n",
      "\u001b[0;31mAttributeError\u001b[0m                            Traceback (most recent call last)\n",
      "Input \u001b[0;32mIn [35]\u001b[0m, in \u001b[0;36m<cell line: 21>\u001b[0;34m()\u001b[0m\n",
      "\u001b[1;32m     21\u001b[0m \u001b[38;5;28;01mfor\u001b[39;00m sentence \u001b[38;5;129;01min\u001b[39;00m sentences:\n",
      "\u001b[1;32m     22\u001b[0m     \u001b[38;5;28mprint\u001b[39m(\u001b[38;5;124m\"\u001b[39m\u001b[38;5;124mconverting\u001b[39m\u001b[38;5;124m\"\u001b[39m, sentence)\n",
      "\u001b[0;32m---> 23\u001b[0m     \u001b[38;5;28mprint\u001b[39m(\u001b[43mopenai\u001b[49m\u001b[38;5;241;43m.\u001b[39;49m\u001b[43mchat\u001b[49m\u001b[38;5;241m.\u001b[39mcompletions\u001b[38;5;241m.\u001b[39mcreate(\n",
      "\u001b[1;32m     24\u001b[0m         model\u001b[38;5;241m=\u001b[39m\u001b[38;5;124m\"\u001b[39m\u001b[38;5;124mgpt-4o-mini\u001b[39m\u001b[38;5;124m\"\u001b[39m,\n",
      "\u001b[1;32m     25\u001b[0m         messages\u001b[38;5;241m=\u001b[39m[{\u001b[38;5;124m\"\u001b[39m\u001b[38;5;124mrole\u001b[39m\u001b[38;5;124m\"\u001b[39m: \u001b[38;5;124m\"\u001b[39m\u001b[38;5;124muser\u001b[39m\u001b[38;5;124m\"\u001b[39m, \u001b[38;5;124m\"\u001b[39m\u001b[38;5;124mcontent\u001b[39m\u001b[38;5;124m\"\u001b[39m: \u001b[38;5;124mf\u001b[39m\u001b[38;5;124m\"\u001b[39m\u001b[38;5;124mConvert the following sentence to \u001b[39m\u001b[38;5;132;01m{\u001b[39;00mtenses[chosen_tense]\u001b[38;5;132;01m}\u001b[39;00m\u001b[38;5;124m: \u001b[39m\u001b[38;5;132;01m{\u001b[39;00msentence\u001b[38;5;132;01m}\u001b[39;00m\u001b[38;5;124m\"\u001b[39m}]\n",
      "\u001b[1;32m     26\u001b[0m     ))\n",
      "\u001b[1;32m     27\u001b[0m     \u001b[38;5;28mprint\u001b[39m(\u001b[38;5;124m\"\u001b[39m\u001b[38;5;124mconverted\u001b[39m\u001b[38;5;124m\"\u001b[39m, sentence)\n",
      "\u001b[1;32m     28\u001b[0m     \u001b[38;5;28mprint\u001b[39m(\u001b[38;5;124m\"\u001b[39m\u001b[38;5;124m---\u001b[39m\u001b[38;5;124m\"\u001b[39m)\n",
      "\n",
      "\u001b[0;31mAttributeError\u001b[0m: module 'openai' has no attribute 'chat'"
     ]
    }
   ],
   "source": [
    "# for each sentence, conv\n",
    "tenses = [\n",
    "    \"present simple\",\n",
    "    \"past simple\"\n",
    "    \"future simple\",\n",
    "    \"present continuous\",\n",
    "    \"past continuous\",\n",
    "    \"future continuous\",\n",
    "    \"present perfect\",\n",
    "    \"past perfect\",\n",
    "    \"future perfect\",\n",
    "    \"present perfect continuous\",\n",
    "    \"past perfect continuous\",\n",
    "    \"future perfect continuous\",\n",
    "]\n",
    "\n",
    "chosen_tense = 0\n",
    "print(\"convert to\", tenses[chosen_tense])\n",
    "\n",
    "# for each sentence, ask openai to convert it to the given tense using openai\n",
    "for sentence in sentences:\n",
    "    print(\"converting\", sentence)\n",
    "    print(openai.chat.completions.create(\n",
    "        model=\"gpt-4o-mini\",\n",
    "        messages=[{\"role\": \"user\", \"content\": f\"Convert the following sentence to {tenses[chosen_tense]}: {sentence}\"}]\n",
    "    ))\n",
    "    print(\"converted\", sentence)\n",
    "    print(\"---\")\n"
   ]
  },
  {
   "cell_type": "code",
   "execution_count": null,
   "metadata": {},
   "outputs": [
    {
     "name": "stdout",
     "output_type": "stream",
     "text": [
      "convert to present simple\n",
      "converting I am Alex.\n"
     ]
    },
    {
     "ename": "AttributeError",
     "evalue": "module 'openai' has no attribute 'chat'",
     "output_type": "error",
     "traceback": [
      "\u001b[0;31m---------------------------------------------------------------------------\u001b[0m\n",
      "\u001b[0;31mAttributeError\u001b[0m                            Traceback (most recent call last)\n",
      "Input \u001b[0;32mIn [35]\u001b[0m, in \u001b[0;36m<cell line: 21>\u001b[0;34m()\u001b[0m\n",
      "\u001b[1;32m     21\u001b[0m \u001b[38;5;28;01mfor\u001b[39;00m sentence \u001b[38;5;129;01min\u001b[39;00m sentences:\n",
      "\u001b[1;32m     22\u001b[0m     \u001b[38;5;28mprint\u001b[39m(\u001b[38;5;124m\"\u001b[39m\u001b[38;5;124mconverting\u001b[39m\u001b[38;5;124m\"\u001b[39m, sentence)\n",
      "\u001b[0;32m---> 23\u001b[0m     \u001b[38;5;28mprint\u001b[39m(\u001b[43mopenai\u001b[49m\u001b[38;5;241;43m.\u001b[39;49m\u001b[43mchat\u001b[49m\u001b[38;5;241m.\u001b[39mcompletions\u001b[38;5;241m.\u001b[39mcreate(\n",
      "\u001b[1;32m     24\u001b[0m         model\u001b[38;5;241m=\u001b[39m\u001b[38;5;124m\"\u001b[39m\u001b[38;5;124mgpt-4o-mini\u001b[39m\u001b[38;5;124m\"\u001b[39m,\n",
      "\u001b[1;32m     25\u001b[0m         messages\u001b[38;5;241m=\u001b[39m[{\u001b[38;5;124m\"\u001b[39m\u001b[38;5;124mrole\u001b[39m\u001b[38;5;124m\"\u001b[39m: \u001b[38;5;124m\"\u001b[39m\u001b[38;5;124muser\u001b[39m\u001b[38;5;124m\"\u001b[39m, \u001b[38;5;124m\"\u001b[39m\u001b[38;5;124mcontent\u001b[39m\u001b[38;5;124m\"\u001b[39m: \u001b[38;5;124mf\u001b[39m\u001b[38;5;124m\"\u001b[39m\u001b[38;5;124mConvert the following sentence to \u001b[39m\u001b[38;5;132;01m{\u001b[39;00mtenses[chosen_tense]\u001b[38;5;132;01m}\u001b[39;00m\u001b[38;5;124m: \u001b[39m\u001b[38;5;132;01m{\u001b[39;00msentence\u001b[38;5;132;01m}\u001b[39;00m\u001b[38;5;124m\"\u001b[39m}]\n",
      "\u001b[1;32m     26\u001b[0m     ))\n",
      "\u001b[1;32m     27\u001b[0m     \u001b[38;5;28mprint\u001b[39m(\u001b[38;5;124m\"\u001b[39m\u001b[38;5;124mconverted\u001b[39m\u001b[38;5;124m\"\u001b[39m, sentence)\n",
      "\u001b[1;32m     28\u001b[0m     \u001b[38;5;28mprint\u001b[39m(\u001b[38;5;124m\"\u001b[39m\u001b[38;5;124m---\u001b[39m\u001b[38;5;124m\"\u001b[39m)\n",
      "\n",
      "\u001b[0;31mAttributeError\u001b[0m: module 'openai' has no attribute 'chat'"
     ]
    }
   ],
   "source": [
    "# for each sentence, conv\n",
    "tenses = [\n",
    "    \"present simple\",\n",
    "    \"past simple\"\n",
    "    \"future simple\",\n",
    "    \"present continuous\",\n",
    "    \"past continuous\",\n",
    "    \"future continuous\",\n",
    "    \"present perfect\",\n",
    "    \"past perfect\",\n",
    "    \"future perfect\",\n",
    "    \"present perfect continuous\",\n",
    "    \"past perfect continuous\",\n",
    "    \"future perfect continuous\",\n",
    "]\n",
    "\n",
    "chosen_tense = 0\n",
    "print(\"convert to\", tenses[chosen_tense])\n",
    "\n",
    "# for each sentence, ask openai to convert it to the given tense using openai\n",
    "for sentence in sentences:\n",
    "    print(\"converting\", sentence)\n",
    "    print(openai.chat.completions.create(\n",
    "        model=\"gpt-4o-mini\",\n",
    "        messages=[{\"role\": \"user\", \"content\": f\"Convert the following sentence to {tenses[chosen_tense]}: {sentence}\"}]\n",
    "    ))\n",
    "    print(\"converted\", sentence)\n",
    "    print(\"---\")\n"
   ]
  },
  {
   "cell_type": "code",
   "execution_count": null,
   "metadata": {},
   "outputs": [
    {
     "name": "stdout",
     "output_type": "stream",
     "text": [
      "convert to present simple\n",
      "converting I am Alex.\n"
     ]
    },
    {
     "ename": "AttributeError",
     "evalue": "module 'openai' has no attribute 'chat'",
     "output_type": "error",
     "traceback": [
      "\u001b[0;31m---------------------------------------------------------------------------\u001b[0m\n",
      "\u001b[0;31mAttributeError\u001b[0m                            Traceback (most recent call last)\n",
      "Input \u001b[0;32mIn [31]\u001b[0m, in \u001b[0;36m<cell line: 21>\u001b[0;34m()\u001b[0m\n",
      "\u001b[1;32m     21\u001b[0m \u001b[38;5;28;01mfor\u001b[39;00m sentence \u001b[38;5;129;01min\u001b[39;00m sentences:\n",
      "\u001b[1;32m     22\u001b[0m     \u001b[38;5;28mprint\u001b[39m(\u001b[38;5;124m\"\u001b[39m\u001b[38;5;124mconverting\u001b[39m\u001b[38;5;124m\"\u001b[39m, sentence)\n",
      "\u001b[0;32m---> 23\u001b[0m     \u001b[38;5;28mprint\u001b[39m(\u001b[43mopenai\u001b[49m\u001b[38;5;241;43m.\u001b[39;49m\u001b[43mchat\u001b[49m\u001b[38;5;241m.\u001b[39mcompletions\u001b[38;5;241m.\u001b[39mcreate(\n",
      "\u001b[1;32m     24\u001b[0m         model\u001b[38;5;241m=\u001b[39m\u001b[38;5;124m\"\u001b[39m\u001b[38;5;124mgpt-4o-mini\u001b[39m\u001b[38;5;124m\"\u001b[39m,\n",
      "\u001b[1;32m     25\u001b[0m         messages\u001b[38;5;241m=\u001b[39m[{\u001b[38;5;124m\"\u001b[39m\u001b[38;5;124mrole\u001b[39m\u001b[38;5;124m\"\u001b[39m: \u001b[38;5;124m\"\u001b[39m\u001b[38;5;124muser\u001b[39m\u001b[38;5;124m\"\u001b[39m, \u001b[38;5;124m\"\u001b[39m\u001b[38;5;124mcontent\u001b[39m\u001b[38;5;124m\"\u001b[39m: \u001b[38;5;124mf\u001b[39m\u001b[38;5;124m\"\u001b[39m\u001b[38;5;124mConvert the following sentence to \u001b[39m\u001b[38;5;132;01m{\u001b[39;00mtenses[chosen_tense]\u001b[38;5;132;01m}\u001b[39;00m\u001b[38;5;124m: \u001b[39m\u001b[38;5;132;01m{\u001b[39;00msentence\u001b[38;5;132;01m}\u001b[39;00m\u001b[38;5;124m\"\u001b[39m}]\n",
      "\u001b[1;32m     26\u001b[0m     ))\n",
      "\u001b[1;32m     27\u001b[0m     \u001b[38;5;28mprint\u001b[39m(\u001b[38;5;124m\"\u001b[39m\u001b[38;5;124mconverted\u001b[39m\u001b[38;5;124m\"\u001b[39m, sentence)\n",
      "\u001b[1;32m     28\u001b[0m     \u001b[38;5;28mprint\u001b[39m(\u001b[38;5;124m\"\u001b[39m\u001b[38;5;124m---\u001b[39m\u001b[38;5;124m\"\u001b[39m)\n",
      "\n",
      "\u001b[0;31mAttributeError\u001b[0m: module 'openai' has no attribute 'chat'"
     ]
    }
   ],
   "source": [
    "# for each sentence, conv\n",
    "tenses = [\n",
    "    \"present simple\",\n",
    "    \"past simple\"\n",
    "    \"future simple\",\n",
    "    \"present continuous\",\n",
    "    \"past continuous\",\n",
    "    \"future continuous\",\n",
    "    \"present perfect\",\n",
    "    \"past perfect\",\n",
    "    \"future perfect\",\n",
    "    \"present perfect continuous\",\n",
    "    \"past perfect continuous\",\n",
    "    \"future perfect continuous\",\n",
    "]\n",
    "\n",
    "chosen_tense = 0\n",
    "print(\"convert to\", tenses[chosen_tense])\n",
    "\n",
    "# for each sentence, ask openai to convert it to the given tense using openai\n",
    "for sentence in sentences:\n",
    "    print(\"converting\", sentence)\n",
    "    print(openai.chat.completions.create(\n",
    "        model=\"gpt-4o-mini\",\n",
    "        messages=[{\"role\": \"user\", \"content\": f\"Convert the following sentence to {tenses[chosen_tense]}: {sentence}\"}]\n",
    "    ))\n",
    "    print(\"converted\", sentence)\n",
    "    print(\"---\")\n"
   ]
  },
  {
   "cell_type": "code",
   "execution_count": null,
   "metadata": {},
   "outputs": [
    {
     "name": "stdout",
     "output_type": "stream",
     "text": [
      "convert to present simple\n",
      "converting I am Alex.\n"
     ]
    },
    {
     "ename": "AttributeError",
     "evalue": "module 'openai' has no attribute 'chat'",
     "output_type": "error",
     "traceback": [
      "\u001b[0;31m---------------------------------------------------------------------------\u001b[0m\n",
      "\u001b[0;31mAttributeError\u001b[0m                            Traceback (most recent call last)\n",
      "Input \u001b[0;32mIn [31]\u001b[0m, in \u001b[0;36m<cell line: 21>\u001b[0;34m()\u001b[0m\n",
      "\u001b[1;32m     21\u001b[0m \u001b[38;5;28;01mfor\u001b[39;00m sentence \u001b[38;5;129;01min\u001b[39;00m sentences:\n",
      "\u001b[1;32m     22\u001b[0m     \u001b[38;5;28mprint\u001b[39m(\u001b[38;5;124m\"\u001b[39m\u001b[38;5;124mconverting\u001b[39m\u001b[38;5;124m\"\u001b[39m, sentence)\n",
      "\u001b[0;32m---> 23\u001b[0m     \u001b[38;5;28mprint\u001b[39m(\u001b[43mopenai\u001b[49m\u001b[38;5;241;43m.\u001b[39;49m\u001b[43mchat\u001b[49m\u001b[38;5;241m.\u001b[39mcompletions\u001b[38;5;241m.\u001b[39mcreate(\n",
      "\u001b[1;32m     24\u001b[0m         model\u001b[38;5;241m=\u001b[39m\u001b[38;5;124m\"\u001b[39m\u001b[38;5;124mgpt-4o-mini\u001b[39m\u001b[38;5;124m\"\u001b[39m,\n",
      "\u001b[1;32m     25\u001b[0m         messages\u001b[38;5;241m=\u001b[39m[{\u001b[38;5;124m\"\u001b[39m\u001b[38;5;124mrole\u001b[39m\u001b[38;5;124m\"\u001b[39m: \u001b[38;5;124m\"\u001b[39m\u001b[38;5;124muser\u001b[39m\u001b[38;5;124m\"\u001b[39m, \u001b[38;5;124m\"\u001b[39m\u001b[38;5;124mcontent\u001b[39m\u001b[38;5;124m\"\u001b[39m: \u001b[38;5;124mf\u001b[39m\u001b[38;5;124m\"\u001b[39m\u001b[38;5;124mConvert the following sentence to \u001b[39m\u001b[38;5;132;01m{\u001b[39;00mtenses[chosen_tense]\u001b[38;5;132;01m}\u001b[39;00m\u001b[38;5;124m: \u001b[39m\u001b[38;5;132;01m{\u001b[39;00msentence\u001b[38;5;132;01m}\u001b[39;00m\u001b[38;5;124m\"\u001b[39m}]\n",
      "\u001b[1;32m     26\u001b[0m     ))\n",
      "\u001b[1;32m     27\u001b[0m     \u001b[38;5;28mprint\u001b[39m(\u001b[38;5;124m\"\u001b[39m\u001b[38;5;124mconverted\u001b[39m\u001b[38;5;124m\"\u001b[39m, sentence)\n",
      "\u001b[1;32m     28\u001b[0m     \u001b[38;5;28mprint\u001b[39m(\u001b[38;5;124m\"\u001b[39m\u001b[38;5;124m---\u001b[39m\u001b[38;5;124m\"\u001b[39m)\n",
      "\n",
      "\u001b[0;31mAttributeError\u001b[0m: module 'openai' has no attribute 'chat'"
     ]
    }
   ],
   "source": [
    "# for each sentence, conv\n",
    "tenses = [\n",
    "    \"present simple\",\n",
    "    \"past simple\"\n",
    "    \"future simple\",\n",
    "    \"present continuous\",\n",
    "    \"past continuous\",\n",
    "    \"future continuous\",\n",
    "    \"present perfect\",\n",
    "    \"past perfect\",\n",
    "    \"future perfect\",\n",
    "    \"present perfect continuous\",\n",
    "    \"past perfect continuous\",\n",
    "    \"future perfect continuous\",\n",
    "]\n",
    "\n",
    "chosen_tense = 0\n",
    "print(\"convert to\", tenses[chosen_tense])\n",
    "\n",
    "# for each sentence, ask openai to convert it to the given tense using openai\n",
    "for sentence in sentences:\n",
    "    print(\"converting\", sentence)\n",
    "    print(openai.chat.completions.create(\n",
    "        model=\"gpt-4o-mini\",\n",
    "        messages=[{\"role\": \"user\", \"content\": f\"Convert the following sentence to {tenses[chosen_tense]}: {sentence}\"}]\n",
    "    ))\n",
    "    print(\"converted\", sentence)\n",
    "    print(\"---\")\n"
   ]
  },
  {
   "cell_type": "code",
   "execution_count": null,
   "metadata": {},
   "outputs": [
    {
     "name": "stdout",
     "output_type": "stream",
     "text": [
      "convert to present simple\n",
      "converting I am Alex.\n"
     ]
    },
    {
     "ename": "AttributeError",
     "evalue": "module 'openai' has no attribute 'chat'",
     "output_type": "error",
     "traceback": [
      "\u001b[0;31m---------------------------------------------------------------------------\u001b[0m\n",
      "\u001b[0;31mAttributeError\u001b[0m                            Traceback (most recent call last)\n",
      "Input \u001b[0;32mIn [31]\u001b[0m, in \u001b[0;36m<cell line: 21>\u001b[0;34m()\u001b[0m\n",
      "\u001b[1;32m     21\u001b[0m \u001b[38;5;28;01mfor\u001b[39;00m sentence \u001b[38;5;129;01min\u001b[39;00m sentences:\n",
      "\u001b[1;32m     22\u001b[0m     \u001b[38;5;28mprint\u001b[39m(\u001b[38;5;124m\"\u001b[39m\u001b[38;5;124mconverting\u001b[39m\u001b[38;5;124m\"\u001b[39m, sentence)\n",
      "\u001b[0;32m---> 23\u001b[0m     \u001b[38;5;28mprint\u001b[39m(\u001b[43mopenai\u001b[49m\u001b[38;5;241;43m.\u001b[39;49m\u001b[43mchat\u001b[49m\u001b[38;5;241m.\u001b[39mcompletions\u001b[38;5;241m.\u001b[39mcreate(\n",
      "\u001b[1;32m     24\u001b[0m         model\u001b[38;5;241m=\u001b[39m\u001b[38;5;124m\"\u001b[39m\u001b[38;5;124mgpt-4o-mini\u001b[39m\u001b[38;5;124m\"\u001b[39m,\n",
      "\u001b[1;32m     25\u001b[0m         messages\u001b[38;5;241m=\u001b[39m[{\u001b[38;5;124m\"\u001b[39m\u001b[38;5;124mrole\u001b[39m\u001b[38;5;124m\"\u001b[39m: \u001b[38;5;124m\"\u001b[39m\u001b[38;5;124muser\u001b[39m\u001b[38;5;124m\"\u001b[39m, \u001b[38;5;124m\"\u001b[39m\u001b[38;5;124mcontent\u001b[39m\u001b[38;5;124m\"\u001b[39m: \u001b[38;5;124mf\u001b[39m\u001b[38;5;124m\"\u001b[39m\u001b[38;5;124mConvert the following sentence to \u001b[39m\u001b[38;5;132;01m{\u001b[39;00mtenses[chosen_tense]\u001b[38;5;132;01m}\u001b[39;00m\u001b[38;5;124m: \u001b[39m\u001b[38;5;132;01m{\u001b[39;00msentence\u001b[38;5;132;01m}\u001b[39;00m\u001b[38;5;124m\"\u001b[39m}]\n",
      "\u001b[1;32m     26\u001b[0m     ))\n",
      "\u001b[1;32m     27\u001b[0m     \u001b[38;5;28mprint\u001b[39m(\u001b[38;5;124m\"\u001b[39m\u001b[38;5;124mconverted\u001b[39m\u001b[38;5;124m\"\u001b[39m, sentence)\n",
      "\u001b[1;32m     28\u001b[0m     \u001b[38;5;28mprint\u001b[39m(\u001b[38;5;124m\"\u001b[39m\u001b[38;5;124m---\u001b[39m\u001b[38;5;124m\"\u001b[39m)\n",
      "\n",
      "\u001b[0;31mAttributeError\u001b[0m: module 'openai' has no attribute 'chat'"
     ]
    }
   ],
   "source": [
    "# for each sentence, conv\n",
    "tenses = [\n",
    "    \"present simple\",\n",
    "    \"past simple\"\n",
    "    \"future simple\",\n",
    "    \"present continuous\",\n",
    "    \"past continuous\",\n",
    "    \"future continuous\",\n",
    "    \"present perfect\",\n",
    "    \"past perfect\",\n",
    "    \"future perfect\",\n",
    "    \"present perfect continuous\",\n",
    "    \"past perfect continuous\",\n",
    "    \"future perfect continuous\",\n",
    "]\n",
    "\n",
    "chosen_tense = 0\n",
    "print(\"convert to\", tenses[chosen_tense])\n",
    "\n",
    "# for each sentence, ask openai to convert it to the given tense using openai\n",
    "for sentence in sentences:\n",
    "    print(\"converting\", sentence)\n",
    "    print(openai.chat.completions.create(\n",
    "        model=\"gpt-4o-mini\",\n",
    "        messages=[{\"role\": \"user\", \"content\": f\"Convert the following sentence to {tenses[chosen_tense]}: {sentence}\"}]\n",
    "    ))\n",
    "    print(\"converted\", sentence)\n",
    "    print(\"---\")\n"
   ]
  },
  {
   "cell_type": "code",
   "execution_count": null,
   "metadata": {},
   "outputs": [
    {
     "name": "stdout",
     "output_type": "stream",
     "text": [
      "convert to present simple\n",
      "converting I am Alex.\n"
     ]
    },
    {
     "ename": "AttributeError",
     "evalue": "module 'openai' has no attribute 'chat'",
     "output_type": "error",
     "traceback": [
      "\u001b[0;31m---------------------------------------------------------------------------\u001b[0m\n",
      "\u001b[0;31mAttributeError\u001b[0m                            Traceback (most recent call last)\n",
      "Input \u001b[0;32mIn [31]\u001b[0m, in \u001b[0;36m<cell line: 21>\u001b[0;34m()\u001b[0m\n",
      "\u001b[1;32m     21\u001b[0m \u001b[38;5;28;01mfor\u001b[39;00m sentence \u001b[38;5;129;01min\u001b[39;00m sentences:\n",
      "\u001b[1;32m     22\u001b[0m     \u001b[38;5;28mprint\u001b[39m(\u001b[38;5;124m\"\u001b[39m\u001b[38;5;124mconverting\u001b[39m\u001b[38;5;124m\"\u001b[39m, sentence)\n",
      "\u001b[0;32m---> 23\u001b[0m     \u001b[38;5;28mprint\u001b[39m(\u001b[43mopenai\u001b[49m\u001b[38;5;241;43m.\u001b[39;49m\u001b[43mchat\u001b[49m\u001b[38;5;241m.\u001b[39mcompletions\u001b[38;5;241m.\u001b[39mcreate(\n",
      "\u001b[1;32m     24\u001b[0m         model\u001b[38;5;241m=\u001b[39m\u001b[38;5;124m\"\u001b[39m\u001b[38;5;124mgpt-4o-mini\u001b[39m\u001b[38;5;124m\"\u001b[39m,\n",
      "\u001b[1;32m     25\u001b[0m         messages\u001b[38;5;241m=\u001b[39m[{\u001b[38;5;124m\"\u001b[39m\u001b[38;5;124mrole\u001b[39m\u001b[38;5;124m\"\u001b[39m: \u001b[38;5;124m\"\u001b[39m\u001b[38;5;124muser\u001b[39m\u001b[38;5;124m\"\u001b[39m, \u001b[38;5;124m\"\u001b[39m\u001b[38;5;124mcontent\u001b[39m\u001b[38;5;124m\"\u001b[39m: \u001b[38;5;124mf\u001b[39m\u001b[38;5;124m\"\u001b[39m\u001b[38;5;124mConvert the following sentence to \u001b[39m\u001b[38;5;132;01m{\u001b[39;00mtenses[chosen_tense]\u001b[38;5;132;01m}\u001b[39;00m\u001b[38;5;124m: \u001b[39m\u001b[38;5;132;01m{\u001b[39;00msentence\u001b[38;5;132;01m}\u001b[39;00m\u001b[38;5;124m\"\u001b[39m}]\n",
      "\u001b[1;32m     26\u001b[0m     ))\n",
      "\u001b[1;32m     27\u001b[0m     \u001b[38;5;28mprint\u001b[39m(\u001b[38;5;124m\"\u001b[39m\u001b[38;5;124mconverted\u001b[39m\u001b[38;5;124m\"\u001b[39m, sentence)\n",
      "\u001b[1;32m     28\u001b[0m     \u001b[38;5;28mprint\u001b[39m(\u001b[38;5;124m\"\u001b[39m\u001b[38;5;124m---\u001b[39m\u001b[38;5;124m\"\u001b[39m)\n",
      "\n",
      "\u001b[0;31mAttributeError\u001b[0m: module 'openai' has no attribute 'chat'"
     ]
    }
   ],
   "source": [
    "# for each sentence, conv\n",
    "tenses = [\n",
    "    \"present simple\",\n",
    "    \"past simple\"\n",
    "    \"future simple\",\n",
    "    \"present continuous\",\n",
    "    \"past continuous\",\n",
    "    \"future continuous\",\n",
    "    \"present perfect\",\n",
    "    \"past perfect\",\n",
    "    \"future perfect\",\n",
    "    \"present perfect continuous\",\n",
    "    \"past perfect continuous\",\n",
    "    \"future perfect continuous\",\n",
    "]\n",
    "\n",
    "chosen_tense = 0\n",
    "print(\"convert to\", tenses[chosen_tense])\n",
    "\n",
    "# for each sentence, ask openai to convert it to the given tense using openai\n",
    "for sentence in sentences:\n",
    "    print(\"converting\", sentence)\n",
    "    print(openai.chat.completions.create(\n",
    "        model=\"gpt-4o-mini\",\n",
    "        messages=[{\"role\": \"user\", \"content\": f\"Convert the following sentence to {tenses[chosen_tense]}: {sentence}\"}]\n",
    "    ))\n",
    "    print(\"converted\", sentence)\n",
    "    print(\"---\")\n"
   ]
  },
  {
   "cell_type": "code",
   "execution_count": null,
   "metadata": {},
   "outputs": [
    {
     "name": "stdout",
     "output_type": "stream",
     "text": [
      "convert to present simple\n",
      "converting I am Alex.\n"
     ]
    },
    {
     "ename": "AttributeError",
     "evalue": "module 'openai' has no attribute 'chat'",
     "output_type": "error",
     "traceback": [
      "\u001b[0;31m---------------------------------------------------------------------------\u001b[0m\n",
      "\u001b[0;31mAttributeError\u001b[0m                            Traceback (most recent call last)\n",
      "Input \u001b[0;32mIn [31]\u001b[0m, in \u001b[0;36m<cell line: 21>\u001b[0;34m()\u001b[0m\n",
      "\u001b[1;32m     21\u001b[0m \u001b[38;5;28;01mfor\u001b[39;00m sentence \u001b[38;5;129;01min\u001b[39;00m sentences:\n",
      "\u001b[1;32m     22\u001b[0m     \u001b[38;5;28mprint\u001b[39m(\u001b[38;5;124m\"\u001b[39m\u001b[38;5;124mconverting\u001b[39m\u001b[38;5;124m\"\u001b[39m, sentence)\n",
      "\u001b[0;32m---> 23\u001b[0m     \u001b[38;5;28mprint\u001b[39m(\u001b[43mopenai\u001b[49m\u001b[38;5;241;43m.\u001b[39;49m\u001b[43mchat\u001b[49m\u001b[38;5;241m.\u001b[39mcompletions\u001b[38;5;241m.\u001b[39mcreate(\n",
      "\u001b[1;32m     24\u001b[0m         model\u001b[38;5;241m=\u001b[39m\u001b[38;5;124m\"\u001b[39m\u001b[38;5;124mgpt-4o-mini\u001b[39m\u001b[38;5;124m\"\u001b[39m,\n",
      "\u001b[1;32m     25\u001b[0m         messages\u001b[38;5;241m=\u001b[39m[{\u001b[38;5;124m\"\u001b[39m\u001b[38;5;124mrole\u001b[39m\u001b[38;5;124m\"\u001b[39m: \u001b[38;5;124m\"\u001b[39m\u001b[38;5;124muser\u001b[39m\u001b[38;5;124m\"\u001b[39m, \u001b[38;5;124m\"\u001b[39m\u001b[38;5;124mcontent\u001b[39m\u001b[38;5;124m\"\u001b[39m: \u001b[38;5;124mf\u001b[39m\u001b[38;5;124m\"\u001b[39m\u001b[38;5;124mConvert the following sentence to \u001b[39m\u001b[38;5;132;01m{\u001b[39;00mtenses[chosen_tense]\u001b[38;5;132;01m}\u001b[39;00m\u001b[38;5;124m: \u001b[39m\u001b[38;5;132;01m{\u001b[39;00msentence\u001b[38;5;132;01m}\u001b[39;00m\u001b[38;5;124m\"\u001b[39m}]\n",
      "\u001b[1;32m     26\u001b[0m     ))\n",
      "\u001b[1;32m     27\u001b[0m     \u001b[38;5;28mprint\u001b[39m(\u001b[38;5;124m\"\u001b[39m\u001b[38;5;124mconverted\u001b[39m\u001b[38;5;124m\"\u001b[39m, sentence)\n",
      "\u001b[1;32m     28\u001b[0m     \u001b[38;5;28mprint\u001b[39m(\u001b[38;5;124m\"\u001b[39m\u001b[38;5;124m---\u001b[39m\u001b[38;5;124m\"\u001b[39m)\n",
      "\n",
      "\u001b[0;31mAttributeError\u001b[0m: module 'openai' has no attribute 'chat'"
     ]
    }
   ],
   "source": [
    "# for each sentence, conv\n",
    "tenses = [\n",
    "    \"present simple\",\n",
    "    \"past simple\"\n",
    "    \"future simple\",\n",
    "    \"present continuous\",\n",
    "    \"past continuous\",\n",
    "    \"future continuous\",\n",
    "    \"present perfect\",\n",
    "    \"past perfect\",\n",
    "    \"future perfect\",\n",
    "    \"present perfect continuous\",\n",
    "    \"past perfect continuous\",\n",
    "    \"future perfect continuous\",\n",
    "]\n",
    "\n",
    "chosen_tense = 0\n",
    "print(\"convert to\", tenses[chosen_tense])\n",
    "\n",
    "# for each sentence, ask openai to convert it to the given tense using openai\n",
    "for sentence in sentences:\n",
    "    print(\"converting\", sentence)\n",
    "    print(openai.chat.completions.create(\n",
    "        model=\"gpt-4o-mini\",\n",
    "        messages=[{\"role\": \"user\", \"content\": f\"Convert the following sentence to {tenses[chosen_tense]}: {sentence}\"}]\n",
    "    ))\n",
    "    print(\"converted\", sentence)\n",
    "    print(\"---\")\n"
   ]
  },
  {
   "cell_type": "code",
   "execution_count": null,
   "metadata": {},
   "outputs": [
    {
     "name": "stdout",
     "output_type": "stream",
     "text": [
      "convert to present simple\n",
      "converting I am Alex.\n"
     ]
    },
    {
     "ename": "AttributeError",
     "evalue": "module 'openai' has no attribute 'chat'",
     "output_type": "error",
     "traceback": [
      "\u001b[0;31m---------------------------------------------------------------------------\u001b[0m\n",
      "\u001b[0;31mAttributeError\u001b[0m                            Traceback (most recent call last)\n",
      "Input \u001b[0;32mIn [31]\u001b[0m, in \u001b[0;36m<cell line: 21>\u001b[0;34m()\u001b[0m\n",
      "\u001b[1;32m     21\u001b[0m \u001b[38;5;28;01mfor\u001b[39;00m sentence \u001b[38;5;129;01min\u001b[39;00m sentences:\n",
      "\u001b[1;32m     22\u001b[0m     \u001b[38;5;28mprint\u001b[39m(\u001b[38;5;124m\"\u001b[39m\u001b[38;5;124mconverting\u001b[39m\u001b[38;5;124m\"\u001b[39m, sentence)\n",
      "\u001b[0;32m---> 23\u001b[0m     \u001b[38;5;28mprint\u001b[39m(\u001b[43mopenai\u001b[49m\u001b[38;5;241;43m.\u001b[39;49m\u001b[43mchat\u001b[49m\u001b[38;5;241m.\u001b[39mcompletions\u001b[38;5;241m.\u001b[39mcreate(\n",
      "\u001b[1;32m     24\u001b[0m         model\u001b[38;5;241m=\u001b[39m\u001b[38;5;124m\"\u001b[39m\u001b[38;5;124mgpt-4o-mini\u001b[39m\u001b[38;5;124m\"\u001b[39m,\n",
      "\u001b[1;32m     25\u001b[0m         messages\u001b[38;5;241m=\u001b[39m[{\u001b[38;5;124m\"\u001b[39m\u001b[38;5;124mrole\u001b[39m\u001b[38;5;124m\"\u001b[39m: \u001b[38;5;124m\"\u001b[39m\u001b[38;5;124muser\u001b[39m\u001b[38;5;124m\"\u001b[39m, \u001b[38;5;124m\"\u001b[39m\u001b[38;5;124mcontent\u001b[39m\u001b[38;5;124m\"\u001b[39m: \u001b[38;5;124mf\u001b[39m\u001b[38;5;124m\"\u001b[39m\u001b[38;5;124mConvert the following sentence to \u001b[39m\u001b[38;5;132;01m{\u001b[39;00mtenses[chosen_tense]\u001b[38;5;132;01m}\u001b[39;00m\u001b[38;5;124m: \u001b[39m\u001b[38;5;132;01m{\u001b[39;00msentence\u001b[38;5;132;01m}\u001b[39;00m\u001b[38;5;124m\"\u001b[39m}]\n",
      "\u001b[1;32m     26\u001b[0m     ))\n",
      "\u001b[1;32m     27\u001b[0m     \u001b[38;5;28mprint\u001b[39m(\u001b[38;5;124m\"\u001b[39m\u001b[38;5;124mconverted\u001b[39m\u001b[38;5;124m\"\u001b[39m, sentence)\n",
      "\u001b[1;32m     28\u001b[0m     \u001b[38;5;28mprint\u001b[39m(\u001b[38;5;124m\"\u001b[39m\u001b[38;5;124m---\u001b[39m\u001b[38;5;124m\"\u001b[39m)\n",
      "\n",
      "\u001b[0;31mAttributeError\u001b[0m: module 'openai' has no attribute 'chat'"
     ]
    }
   ],
   "source": [
    "# for each sentence, conv\n",
    "tenses = [\n",
    "    \"present simple\",\n",
    "    \"past simple\"\n",
    "    \"future simple\",\n",
    "    \"present continuous\",\n",
    "    \"past continuous\",\n",
    "    \"future continuous\",\n",
    "    \"present perfect\",\n",
    "    \"past perfect\",\n",
    "    \"future perfect\",\n",
    "    \"present perfect continuous\",\n",
    "    \"past perfect continuous\",\n",
    "    \"future perfect continuous\",\n",
    "]\n",
    "\n",
    "chosen_tense = 0\n",
    "print(\"convert to\", tenses[chosen_tense])\n",
    "\n",
    "# for each sentence, ask openai to convert it to the given tense using openai\n",
    "for sentence in sentences:\n",
    "    print(\"converting\", sentence)\n",
    "    print(openai.chat.completions.create(\n",
    "        model=\"gpt-4o-mini\",\n",
    "        messages=[{\"role\": \"user\", \"content\": f\"Convert the following sentence to {tenses[chosen_tense]}: {sentence}\"}]\n",
    "    ))\n",
    "    print(\"converted\", sentence)\n",
    "    print(\"---\")\n"
   ]
  },
  {
   "cell_type": "code",
   "execution_count": null,
   "metadata": {},
   "outputs": [
    {
     "name": "stdout",
     "output_type": "stream",
     "text": [
      "convert to present simple\n",
      "converting I am Alex.\n"
     ]
    },
    {
     "ename": "AttributeError",
     "evalue": "module 'openai' has no attribute 'chat'",
     "output_type": "error",
     "traceback": [
      "\u001b[0;31m---------------------------------------------------------------------------\u001b[0m\n",
      "\u001b[0;31mAttributeError\u001b[0m                            Traceback (most recent call last)\n",
      "Input \u001b[0;32mIn [31]\u001b[0m, in \u001b[0;36m<cell line: 21>\u001b[0;34m()\u001b[0m\n",
      "\u001b[1;32m     21\u001b[0m \u001b[38;5;28;01mfor\u001b[39;00m sentence \u001b[38;5;129;01min\u001b[39;00m sentences:\n",
      "\u001b[1;32m     22\u001b[0m     \u001b[38;5;28mprint\u001b[39m(\u001b[38;5;124m\"\u001b[39m\u001b[38;5;124mconverting\u001b[39m\u001b[38;5;124m\"\u001b[39m, sentence)\n",
      "\u001b[0;32m---> 23\u001b[0m     \u001b[38;5;28mprint\u001b[39m(\u001b[43mopenai\u001b[49m\u001b[38;5;241;43m.\u001b[39;49m\u001b[43mchat\u001b[49m\u001b[38;5;241m.\u001b[39mcompletions\u001b[38;5;241m.\u001b[39mcreate(\n",
      "\u001b[1;32m     24\u001b[0m         model\u001b[38;5;241m=\u001b[39m\u001b[38;5;124m\"\u001b[39m\u001b[38;5;124mgpt-4o-mini\u001b[39m\u001b[38;5;124m\"\u001b[39m,\n",
      "\u001b[1;32m     25\u001b[0m         messages\u001b[38;5;241m=\u001b[39m[{\u001b[38;5;124m\"\u001b[39m\u001b[38;5;124mrole\u001b[39m\u001b[38;5;124m\"\u001b[39m: \u001b[38;5;124m\"\u001b[39m\u001b[38;5;124muser\u001b[39m\u001b[38;5;124m\"\u001b[39m, \u001b[38;5;124m\"\u001b[39m\u001b[38;5;124mcontent\u001b[39m\u001b[38;5;124m\"\u001b[39m: \u001b[38;5;124mf\u001b[39m\u001b[38;5;124m\"\u001b[39m\u001b[38;5;124mConvert the following sentence to \u001b[39m\u001b[38;5;132;01m{\u001b[39;00mtenses[chosen_tense]\u001b[38;5;132;01m}\u001b[39;00m\u001b[38;5;124m: \u001b[39m\u001b[38;5;132;01m{\u001b[39;00msentence\u001b[38;5;132;01m}\u001b[39;00m\u001b[38;5;124m\"\u001b[39m}]\n",
      "\u001b[1;32m     26\u001b[0m     ))\n",
      "\u001b[1;32m     27\u001b[0m     \u001b[38;5;28mprint\u001b[39m(\u001b[38;5;124m\"\u001b[39m\u001b[38;5;124mconverted\u001b[39m\u001b[38;5;124m\"\u001b[39m, sentence)\n",
      "\u001b[1;32m     28\u001b[0m     \u001b[38;5;28mprint\u001b[39m(\u001b[38;5;124m\"\u001b[39m\u001b[38;5;124m---\u001b[39m\u001b[38;5;124m\"\u001b[39m)\n",
      "\n",
      "\u001b[0;31mAttributeError\u001b[0m: module 'openai' has no attribute 'chat'"
     ]
    }
   ],
   "source": [
    "# for each sentence, conv\n",
    "tenses = [\n",
    "    \"present simple\",\n",
    "    \"past simple\"\n",
    "    \"future simple\",\n",
    "    \"present continuous\",\n",
    "    \"past continuous\",\n",
    "    \"future continuous\",\n",
    "    \"present perfect\",\n",
    "    \"past perfect\",\n",
    "    \"future perfect\",\n",
    "    \"present perfect continuous\",\n",
    "    \"past perfect continuous\",\n",
    "    \"future perfect continuous\",\n",
    "]\n",
    "\n",
    "chosen_tense = 0\n",
    "print(\"convert to\", tenses[chosen_tense])\n",
    "\n",
    "# for each sentence, ask openai to convert it to the given tense using openai\n",
    "for sentence in sentences:\n",
    "    print(\"converting\", sentence)\n",
    "    print(openai.chat.completions.create(\n",
    "        model=\"gpt-4o-mini\",\n",
    "        messages=[{\"role\": \"user\", \"content\": f\"Convert the following sentence to {tenses[chosen_tense]}: {sentence}\"}]\n",
    "    ))\n",
    "    print(\"converted\", sentence)\n",
    "    print(\"---\")\n"
   ]
  },
  {
   "cell_type": "code",
   "execution_count": null,
   "metadata": {},
   "outputs": [],
   "source": []
  }
 ],
 "metadata": {
  "kernelspec": {
   "display_name": "schahar",
   "language": "python",
   "name": "python3"
  },
  "language_info": {
   "codemirror_mode": {
    "name": "ipython",
    "version": 3
   },
   "file_extension": ".py",
   "mimetype": "text/x-python",
   "name": "python",
   "nbconvert_exporter": "python",
   "pygments_lexer": "ipython3",
   "version": "3.10.13"
  }
 },
 "nbformat": 4,
 "nbformat_minor": 2
}
