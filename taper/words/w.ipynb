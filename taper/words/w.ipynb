{
 "cells": [
  {
   "cell_type": "markdown",
   "metadata": {},
   "source": [
    "# English Words Corpus Analysis\n",
    "This notebook explores the NLTK words corpus and provides various linguistic analyses."
   ]
  },
  {
   "cell_type": "code",
   "execution_count": 1,
   "metadata": {},
   "outputs": [
    {
     "name": "stderr",
     "output_type": "stream",
     "text": [
      "[nltk_data] Downloading package words to /Users/alex/nltk_data...\n",
      "[nltk_data]   Unzipping corpora/words.zip.\n",
      "[nltk_data] Downloading package averaged_perceptron_tagger to\n",
      "[nltk_data]     /Users/alex/nltk_data...\n",
      "[nltk_data]   Unzipping taggers/averaged_perceptron_tagger.zip.\n"
     ]
    },
    {
     "data": {
      "text/plain": [
       "True"
      ]
     },
     "execution_count": 1,
     "metadata": {},
     "output_type": "execute_result"
    }
   ],
   "source": [
    "# Import required libraries\n",
    "import nltk\n",
    "from nltk.corpus import words\n",
    "import pandas as pd\n",
    "import matplotlib.pyplot as plt\n",
    "import seaborn as sns\n",
    "from collections import Counter\n",
    "import string\n",
    "\n",
    "# Download required NLTK data\n",
    "nltk.download('words')\n",
    "nltk.download('averaged_perceptron_tagger')"
   ]
  },
  {
   "cell_type": "code",
   "execution_count": 9,
   "metadata": {},
   "outputs": [
    {
     "name": "stdout",
     "output_type": "stream",
     "text": [
      "Total number of words: 236736\n",
      "Sample of first 10 words: ['A', 'a', 'aa', 'aal', 'aalii', 'aam', 'Aani', 'aardvark', 'aardwolf', 'Aaron']\n"
     ]
    }
   ],
   "source": [
    "# Load the words\n",
    "word_list = words.words()\n",
    "print(f\"Total number of words: {len(word_list)}\")\n",
    "print(f\"Sample of first 10 words: {word_list[:10]}\")"
   ]
  },
  {
   "cell_type": "markdown",
   "metadata": {},
   "source": [
    "## Letter Analysis"
   ]
  },
  {
   "cell_type": "code",
   "execution_count": 4,
   "metadata": {},
   "outputs": [
    {
     "data": {
      "image/png": "[encoded data removed]",
      "text/plain": [
       "<Figure size 1080x432 with 1 Axes>"
      ]
     },
     "metadata": {
      "needs_background": "light"
     },
     "output_type": "display_data"
    }
   ],
   "source": [
    "# Analyze starting letters\n",
    "starting_letters = [word[0].lower() for word in word_list]\n",
    "letter_freq = Counter(starting_letters)\n",
    "\n",
    "# Plot starting letter distribution\n",
    "plt.figure(figsize=(15, 6))\n",
    "letters = sorted(letter_freq.keys())\n",
    "frequencies = [letter_freq[letter] for letter in letters]\n",
    "\n",
    "sns.barplot(x=letters, y=frequencies)\n",
    "plt.title('Frequency of Starting Letters')\n",
    "plt.xlabel('Letter')\n",
    "plt.ylabel('Frequency')\n",
    "plt.show()"
   ]
  },
  {
   "cell_type": "markdown",
   "metadata": {},
   "source": [
    "## Pattern Analysis"
   ]
  },
  {
   "cell_type": "code",
   "execution_count": 8,
   "metadata": {},
   "outputs": [
    {
     "name": "stdout",
     "output_type": "stream",
     "text": [
      "Number of palindromes: 147\n",
      "Sample palindromes: ['aa', 'aba', 'Abba', 'acca', 'Ada', 'Adda', 'adda', 'Adinida', 'affa', 'aga', 'aha', 'Ajaja', 'ajaja', 'Aka', 'aka', 'Akka', 'ala', 'Alala', 'alala', 'alula', 'ama', 'Amma', 'amma', 'Ana', 'ana', 'anana', 'Anna', 'anna', 'apa', 'ara', 'Arara', 'arara', 'Asa', 'Ata', 'Atta', 'atta', 'ava', 'awa', 'Bab', 'bib', 'Bob', 'bob', 'boob', 'bub', 'civic', 'dad', 'deed', 'deedeed', 'degged', 'did', 'dod', 'dud', 'eke', 'elle', 'eme', 'ere', 'Eve', 'eve', 'Ewe', 'ewe', 'eye', 'gag', 'gig', 'gog', 'hah', 'hallah', 'huh', 'ihi', 'imi', 'immi', 'kakkak', 'Kassak', 'kayak', 'Kazak', 'keek', 'kelek', 'lemel', 'level', 'maam', 'madam', 'Malayalam', 'Mam', 'mem', 'mesem', 'mim', 'minim', 'mum', 'murdrum', 'Nan', 'nan', 'non', 'noon', 'nun', 'Ofo', 'oho', 'Oto', 'Otto', 'otto', 'pap', 'peep']\n",
      "\n",
      "Words with triple letters: 52851\n",
      "Sample triple letter words: ['aardvark', 'abaca', 'abacate', 'abacay', 'abacinate']\n",
      "\n",
      "Words with only vowels: 25\n",
      "Sample vowel-only words: ['A', 'a', 'aa', 'ae', 'ai']\n"
     ]
    }
   ],
   "source": [
    "# Find words with interesting patterns\n",
    "def analyze_patterns():\n",
    "    palindromes = [word for word in word_list if word.lower() == word.lower()[::-1] and len(word) > 1]\n",
    "    repeated_letters = [word for word in word_list if any(word.count(c) >= 3 for c in word.lower())]\n",
    "    all_vowels = [word for word in word_list if all(c in 'aeiou' for c in word.lower())]\n",
    "    \n",
    "    print(f\"Number of palindromes: {len(palindromes)}\")\n",
    "    print(f\"Sample palindromes: {palindromes[:100]}\\n\")\n",
    "    \n",
    "    print(f\"Words with triple letters: {len(repeated_letters)}\")\n",
    "    print(f\"Sample triple letter words: {repeated_letters[:5]}\\n\")\n",
    "    \n",
    "    print(f\"Words with only vowels: {len(all_vowels)}\")\n",
    "    print(f\"Sample vowel-only words: {all_vowels[:5]}\")\n",
    "\n",
    "analyze_patterns()"
   ]
  },
  {
   "cell_type": "markdown",
   "metadata": {},
   "source": [
    "## Word Structure Analysis"
   ]
  },
  {
   "cell_type": "code",
   "execution_count": 6,
   "metadata": {},
   "outputs": [
    {
     "data": {
      "image/png": "[encoded data removed]",
      "text/plain": [
       "<Figure size 720x432 with 1 Axes>"
      ]
     },
     "metadata": {
      "needs_background": "light"
     },
     "output_type": "display_data"
    },
    {
     "name": "stdout",
     "output_type": "stream",
     "text": [
      "Average vowel ratio: 0.395\n"
     ]
    }
   ],
   "source": [
    "# Analyze vowel/consonant patterns\n",
    "def get_vowel_ratio(word):\n",
    "    vowels = sum(1 for c in word.lower() if c in 'aeiou')\n",
    "    return vowels / len(word) if len(word) > 0 else 0\n",
    "\n",
    "vowel_ratios = [get_vowel_ratio(word) for word in word_list]\n",
    "\n",
    "plt.figure(figsize=(10, 6))\n",
    "sns.histplot(vowel_ratios, bins=30)\n",
    "plt.title('Distribution of Vowel Ratios in Words')\n",
    "plt.xlabel('Vowel Ratio')\n",
    "plt.ylabel('Frequency')\n",
    "plt.show()\n",
    "\n",
    "print(f\"Average vowel ratio: {sum(vowel_ratios)/len(vowel_ratios):.3f}\")"
   ]
  },
  {
   "cell_type": "markdown",
   "metadata": {},
   "source": [
    "## Most Common Patterns"
   ]
  },
  {
   "cell_type": "code",
   "execution_count": 7,
   "metadata": {},
   "outputs": [
    {
     "name": "stdout",
     "output_type": "stream",
     "text": [
      "Most common prefixes (3 letters):\n",
      "pre: 3032\n",
      "non: 2793\n",
      "pro: 2451\n",
      "ove: 2058\n",
      "con: 1979\n",
      "und: 1901\n",
      "int: 1805\n",
      "ant: 1746\n",
      "dis: 1714\n",
      "uns: 1674\n",
      "\n",
      "Most common suffixes (3 letters):\n",
      "ess: 9274\n",
      "ion: 6948\n",
      "ous: 6423\n",
      "ing: 5559\n",
      "ate: 4566\n",
      "ble: 4356\n",
      "tic: 3998\n",
      "ism: 3483\n",
      "ist: 3288\n",
      "ite: 3065\n"
     ]
    }
   ],
   "source": [
    "# Analyze common prefixes and suffixes\n",
    "def analyze_affixes():\n",
    "    prefixes = Counter(word[:3].lower() for word in word_list if len(word) >= 3)\n",
    "    suffixes = Counter(word[-3:].lower() for word in word_list if len(word) >= 3)\n",
    "    \n",
    "    print(\"Most common prefixes (3 letters):\")\n",
    "    for prefix, count in prefixes.most_common(10):\n",
    "        print(f\"{prefix}: {count}\")\n",
    "    \n",
    "    print(\"\\nMost common suffixes (3 letters):\")\n",
    "    for suffix, count in suffixes.most_common(10):\n",
    "        print(f\"{suffix}: {count}\")\n",
    "\n",
    "analyze_affixes()"
   ]
  },
  {
   "cell_type": "code",
   "execution_count": 10,
   "metadata": {},
   "outputs": [
    {
     "name": "stdout",
     "output_type": "stream",
     "text": [
      "Total number of 14-letter words: 9766\n",
      "\n",
      "Distribution of starting letters:\n",
      "a     745\n",
      "b     192\n",
      "c     776\n",
      "d     442\n",
      "e     359\n",
      "f     145\n",
      "g     153\n",
      "h     413\n",
      "i     593\n",
      "j      12\n",
      "k      15\n",
      "l     144\n",
      "m     510\n",
      "n     466\n",
      "o     356\n",
      "p    1435\n",
      "q      74\n",
      "r     354\n",
      "s    1033\n",
      "t     444\n",
      "u     944\n",
      "v      94\n",
      "w      27\n",
      "x      16\n",
      "y       2\n",
      "z      22\n",
      "Name: first_letter, dtype: int64\n",
      "\n",
      "Example 14-letter words:\n",
      "0    abarticulation\n",
      "1    abdominocystic\n",
      "2    abominableness\n",
      "3    absentmindedly\n",
      "4    absolutization\n",
      "Name: word, dtype: object\n"
     ]
    }
   ],
   "source": [
    "# Get all 14 letter words and analyze their starting letters\n",
    "fourteen_letter_words = [word for word in word_list if len(word) == 14]\n",
    "df = pd.DataFrame(fourteen_letter_words, columns=['word'])\n",
    "df['first_letter'] = df['word'].str[0].str.lower()\n",
    "\n",
    "# Get count of words starting with each letter\n",
    "letter_counts = df['first_letter'].value_counts().sort_index()\n",
    "\n",
    "print(f\"Total number of 14-letter words: {len(fourteen_letter_words)}\")\n",
    "print(\"\\nDistribution of starting letters:\")\n",
    "print(letter_counts)\n",
    "\n",
    "# Display some example words\n",
    "print(\"\\nExample 14-letter words:\")\n",
    "print(df['word'].head())"
   ]
  },
  {
   "cell_type": "code",
   "execution_count": 14,
   "metadata": {},
   "outputs": [
    {
     "name": "stdout",
     "output_type": "stream",
     "text": [
      "Total number of 14-letter words: 9766\n",
      "\n",
      "Distribution of starting letters:\n",
      "a     745\n",
      "b     192\n",
      "c     776\n",
      "d     442\n",
      "e     359\n",
      "f     145\n",
      "g     153\n",
      "h     413\n",
      "i     593\n",
      "j      12\n",
      "k      15\n",
      "l     144\n",
      "m     510\n",
      "n     466\n",
      "o     356\n",
      "p    1435\n",
      "q      74\n",
      "r     354\n",
      "s    1033\n",
      "t     444\n",
      "u     944\n",
      "v      94\n",
      "w      27\n",
      "x      16\n",
      "y       2\n",
      "z      22\n",
      "Name: first_letter, dtype: int64\n",
      "\n",
      "Example 14-letter words:\n",
      "0    abarticulation\n",
      "1    abdominocystic\n",
      "2    abominableness\n",
      "3    absentmindedly\n",
      "4    absolutization\n",
      "Name: word, dtype: object\n"
     ]
    }
   ],
   "source": [
    "# Get all 14 letter words and analyze their starting letters\n",
    "fourteen_letter_words = [word for word in word_list if len(word) == 14]\n",
    "df = pd.DataFrame(fourteen_letter_words, columns=['word'])\n",
    "df['first_letter'] = df['word'].str[0].str.lower()\n",
    "\n",
    "# Get count of words starting with each letter\n",
    "letter_counts = df['first_letter'].value_counts().sort_index()\n",
    "\n",
    "print(f\"Total number of 14-letter words: {len(fourteen_letter_words)}\")\n",
    "print(\"\\nDistribution of starting letters:\")\n",
    "print(letter_counts)\n",
    "\n",
    "# Display some example words\n",
    "print(\"\\nExample 14-letter words:\")\n",
    "print(df['word'].head())"
   ]
  },
  {
   "cell_type": "code",
   "execution_count": 20,
   "metadata": {},
   "outputs": [
    {
     "name": "stdout",
     "output_type": "stream",
     "text": [
      "\n",
      "Results for Reuters corpus:\n",
      "Top 20 most common 14-letter words:\n",
      "                word  frequency  frequency_per_million\n",
      "5848  administration        358               208.0306\n",
      "6529  representative        122                70.8931\n",
      "9679  transportation        101                58.6902\n",
      "6370  reorganization         59                34.2844\n",
      "8248  recommendation         58                33.7033\n",
      "2807  undersecretary         36                20.9193\n",
      "9320  implementation         32                18.5949\n",
      "8148  administrative         27                15.6895\n",
      "5276  pharmaceutical         26                15.1084\n",
      "3317  responsibility         19                11.0407\n",
      "5678  disappointment         15                 8.7164\n",
      "6136  representation         15                 8.7164\n",
      "7483  rehabilitation         14                 8.1353\n",
      "8185  extinguishment         12                 6.9731\n",
      "9325  unsuccessfully         11                 6.3920\n",
      "1883  reintroduction         10                 5.8109\n",
      "894   overproduction         10                 5.8109\n",
      "3427  simultaneously         10                 5.8109\n",
      "6301  discriminatory          9                 5.2298\n",
      "8312  liberalization          9                 5.2298\n",
      "\n",
      "Summary statistics for 14-letter word frequencies per million in Reuters:\n",
      "count    9761.000000\n",
      "mean        0.064473\n",
      "std         2.396064\n",
      "min         0.000000\n",
      "25%         0.000000\n",
      "50%         0.000000\n",
      "75%         0.000000\n",
      "max       208.030561\n",
      "Name: frequency_per_million, dtype: float64\n",
      "\n",
      "Results for Gutenberg corpus:\n",
      "Top 20 most common 14-letter words:\n",
      "                word  frequency  frequency_per_million\n",
      "5678  disappointment         51                19.4537\n",
      "2532  interpretation         47                17.9279\n",
      "4973  reconciliation         21                 8.0103\n",
      "3427  simultaneously         20                 7.6289\n",
      "8248  recommendation         18                 6.8660\n",
      "8853  uncircumcision         16                 6.1031\n",
      "1333  respectability         15                 5.7217\n",
      "8678  characteristic         13                 4.9588\n",
      "2399  contemptuously         11                 4.1959\n",
      "8321  correspondence         11                 4.1959\n",
      "8109  affectionately         11                 4.1959\n",
      "3559  transformation         10                 3.8144\n",
      "9263  distinguishing         10                 3.8144\n",
      "6529  representative          8                 3.0516\n",
      "9165  unquestionable          8                 3.0516\n",
      "6136  representation          8                 3.0516\n",
      "8805  schoolmistress          8                 3.0516\n",
      "6818  inconsiderable          7                 2.6701\n",
      "8990  thoughtfulness          7                 2.6701\n",
      "8165  ostentatiously          7                 2.6701\n",
      "\n",
      "Summary statistics for 14-letter word frequencies per million in Gutenberg:\n",
      "count    9761.000000\n",
      "mean        0.023721\n",
      "std         0.354698\n",
      "min         0.000000\n",
      "25%         0.000000\n",
      "50%         0.000000\n",
      "75%         0.000000\n",
      "max        19.453672\n",
      "Name: frequency_per_million, dtype: float64\n",
      "\n",
      "Results for Brown corpus:\n",
      "Top 20 most common 14-letter words:\n",
      "                word  frequency  frequency_per_million\n",
      "5848  administration        161               138.6506\n",
      "3317  responsibility        118               101.6197\n",
      "8678  characteristic         68                58.5605\n",
      "2532  interpretation         54                46.5039\n",
      "8148  administrative         53                45.6428\n",
      "6529  representative         47                40.4756\n",
      "9679  transportation         43                37.0309\n",
      "955   identification         43                37.0309\n",
      "3427  simultaneously         38                32.7250\n",
      "6370  reorganization         27                23.2520\n",
      "8321  correspondence         25                21.5296\n",
      "6165  constitutional         25                21.5296\n",
      "8248  recommendation         24                20.6684\n",
      "432   discrimination         23                19.8072\n",
      "7483  rehabilitation         22                18.9460\n",
      "3718  classification         21                18.0849\n",
      "3559  transformation         20                17.2237\n",
      "6136  representation         18                15.5013\n",
      "8505  superintendent         17                14.6401\n",
      "5678  disappointment         15                12.9178\n",
      "\n",
      "Summary statistics for 14-letter word frequencies per million in Brown:\n",
      "count    9761.000000\n",
      "mean        0.132693\n",
      "std         2.235625\n",
      "min         0.000000\n",
      "25%         0.000000\n",
      "50%         0.000000\n",
      "75%         0.000000\n",
      "max       138.650628\n",
      "Name: frequency_per_million, dtype: float64\n",
      "\n",
      "Corpus Comparison Statistics:\n",
      "             total_words  unique_words  vocab_richness  num_14_letter_words  avg_14_letter_freq  max_14_letter_freq  total_14_letter_occurrences  pct_14_letter_words\n",
      "corpus_name                                                                                                                                                          \n",
      "Reuters          1720901         31078          0.0181                   77              0.1110                 358                         1083               0.0629\n",
      "Gutenberg        2621613         42339          0.0161                  179              0.0622                  51                          607               0.0232\n",
      "Brown            1161192         49815          0.0429                  272              0.1541                 161                         1504               0.1295\n"
     ]
    }
   ],
   "source": [
    "# Import additional corpora\n",
    "from nltk.corpus import reuters, gutenberg, brown\n",
    "# nltk.download('reuters')\n",
    "# nltk.download('gutenberg')\n",
    "# nltk.download('brown')\n",
    "\n",
    "def analyze_corpus_word_frequencies(corpus_name, corpus_words):\n",
    "    # Create frequency distribution for the corpus\n",
    "    word_freq_dist = nltk.FreqDist([word.lower() for word in corpus_words])\n",
    "    total_words = len(corpus_words)\n",
    "    unique_words = len(set(word.lower() for word in corpus_words))\n",
    "    \n",
    "    # Create DataFrame with 14 letter words and their probabilities\n",
    "    fourteen_letter_words = [word for word in word_list if len(word) == 14]\n",
    "    # Convert to lowercase and remove duplicates before creating DataFrame\n",
    "    fourteen_letter_words = list(set(word.lower() for word in fourteen_letter_words))\n",
    "    df = pd.DataFrame(fourteen_letter_words, columns=['word'])\n",
    "    \n",
    "    # Calculate frequency and probability for each word\n",
    "    df['frequency'] = df['word'].apply(lambda x: word_freq_dist[x])  # x is already lowercase\n",
    "    df['probability'] = df['frequency'] / total_words\n",
    "    df['frequency_per_million'] = df['probability'] * 1_000_000\n",
    "    \n",
    "    # Sort by probability in descending order\n",
    "    df_sorted = df.sort_values('probability', ascending=False)\n",
    "    \n",
    "    # Display results\n",
    "    print(f\"\\nResults for {corpus_name} corpus:\")\n",
    "    print(\"Top 20 most common 14-letter words:\")\n",
    "    print(df_sorted[['word', 'frequency', 'frequency_per_million']]\n",
    "          .head(20)\n",
    "          .to_string(float_format=lambda x: '{:.4f}'.format(x)))\n",
    "    \n",
    "    print(f\"\\nSummary statistics for 14-letter word frequencies per million in {corpus_name}:\")\n",
    "    print(df['frequency_per_million'].describe())\n",
    "    \n",
    "    return {\n",
    "        'corpus_name': corpus_name,\n",
    "        'total_words': total_words,\n",
    "        'unique_words': unique_words,\n",
    "        'vocab_richness': unique_words / total_words,\n",
    "        'num_14_letter_words': len(df[df['frequency'] > 0]),\n",
    "        'avg_14_letter_freq': df['frequency'].mean(),\n",
    "        'max_14_letter_freq': df['frequency'].max(),\n",
    "        'total_14_letter_occurrences': df['frequency'].sum(),\n",
    "        'pct_14_letter_words': (df['frequency'].sum() / total_words) * 100\n",
    "    }\n",
    "\n",
    "# Analyze each corpus separately and collect statistics\n",
    "corpus_stats = []\n",
    "for corpus_name, corpus in [('Reuters', reuters.words()), \n",
    "                          ('Gutenberg', gutenberg.words()),\n",
    "                          ('Brown', brown.words())]:\n",
    "    stats = analyze_corpus_word_frequencies(corpus_name, corpus)\n",
    "    corpus_stats.append(stats)\n",
    "\n",
    "# Create and display comparison DataFrame\n",
    "comparison_df = pd.DataFrame(corpus_stats)\n",
    "comparison_df.set_index('corpus_name', inplace=True)\n",
    "print(\"\\nCorpus Comparison Statistics:\")\n",
    "print(comparison_df.round(4).to_string())"
   ]
  },
  {
   "cell_type": "code",
   "execution_count": 23,
   "metadata": {},
   "outputs": [],
   "source": [
    "from nltk import FreqDist\n",
    "\n",
    "# Create separate files for each corpus's 14-letter words\n",
    "for corpus_name, corpus in [('Reuters', reuters.words()), \n",
    "                          ('Gutenberg', gutenberg.words()),\n",
    "                          ('Brown', brown.words())]:\n",
    "    # Get word frequencies\n",
    "    word_freq_dist = FreqDist(word.lower() for word in corpus if word.isalpha())\n",
    "    total_words = sum(word_freq_dist.values())\n",
    "    \n",
    "    # Get 14-letter words and their stats\n",
    "    fourteen_letter_words = [word for word in word_freq_dist.keys() if len(word) == 14]\n",
    "    fourteen_letter_words.sort()  # Sort alphabetically\n",
    "    \n",
    "    # Write to file\n",
    "    with open(f'{corpus_name.lower()}_14letter_words.txt', 'w') as f:\n",
    "        for word in fourteen_letter_words:\n",
    "            frequency = word_freq_dist[word]\n",
    "            frequency_per_total = frequency / total_words\n",
    "            f.write(f\"{word} {frequency} / {total_words} = {frequency / total_words} \\n\")\n",
    "\n"
   ]
  },
  {
   "cell_type": "code",
   "execution_count": 26,
   "metadata": {},
   "outputs": [],
   "source": [
    "def find_words_with_common_affixes(filename, min_occurrences=14):\n",
    "    # Read 14-letter words from file\n",
    "    words = []\n",
    "    with open(filename, 'r') as f:\n",
    "        for line in f:\n",
    "            word = line.split()[0]  # Get just the word, not the frequency\n",
    "            if len(word) == 14:  # Verify it's a 14-letter word\n",
    "                words.append(word)\n",
    "    \n",
    "    # Find all possible prefixes and the words that contain them\n",
    "    prefix_words = {}\n",
    "    for word in words:\n",
    "        for length in range(1, 14):  # Try all possible prefix lengths\n",
    "            prefix = word[:length]\n",
    "            if prefix not in prefix_words:\n",
    "                prefix_words[prefix] = []\n",
    "            prefix_words[prefix].append(word)\n",
    "                \n",
    "    # Find all possible suffixes and the words that contain them\n",
    "    suffix_words = {}\n",
    "    for word in words:\n",
    "        for length in range(1, 14):  # Try all possible suffix lengths\n",
    "            suffix = word[-length:]\n",
    "            if suffix not in suffix_words:\n",
    "                suffix_words[suffix] = []\n",
    "            suffix_words[suffix].append(word)\n",
    "    \n",
    "    # Filter for minimum occurrences\n",
    "    common_prefix_words = {k: v for k, v in prefix_words.items() if len(v) >= min_occurrences}\n",
    "    common_suffix_words = {k: v for k, v in suffix_words.items() if len(v) >= min_occurrences}\n",
    "    \n",
    "    # Sort by affix length (descending), then by count, then alphabetically\n",
    "    common_prefix_words = dict(sorted(common_prefix_words.items(), \n",
    "        key=lambda x: (-len(x[0]), -len(x[1]), x[0])))\n",
    "    common_suffix_words = dict(sorted(common_suffix_words.items(), \n",
    "        key=lambda x: (-len(x[0]), -len(x[1]), x[0])))\n",
    "    \n",
    "    return common_prefix_words, common_suffix_words\n",
    "\n",
    "# Analyze each corpus and write to files\n",
    "for corpus in ['reuters', 'gutenberg', 'brown']:\n",
    "    input_filename = f'{corpus}_14letter_words.txt'\n",
    "    prefix_output = f'{corpus}_common_prefixes.txt'\n",
    "    suffix_output = f'{corpus}_common_suffixes.txt'\n",
    "    \n",
    "    prefix_words, suffix_words = find_words_with_common_affixes(input_filename)\n",
    "    \n",
    "    # Write prefixes to file\n",
    "    with open(prefix_output, 'w') as f:\n",
    "        f.write(f\"{corpus.upper()} Corpus Words with Common Prefixes (14+ occurrences):\\n\\n\")\n",
    "        for prefix, words in prefix_words.items():\n",
    "            f.write(f\"\\n{prefix} ({len(words)} words):\\n\")\n",
    "            for word in sorted(words):\n",
    "                f.write(f\"  {word}\\n\")\n",
    "    \n",
    "    # Write suffixes to file\n",
    "    with open(suffix_output, 'w') as f:\n",
    "        f.write(f\"{corpus.upper()} Corpus Words with Common Suffixes (14+ occurrences):\\n\\n\")\n",
    "        for suffix, words in suffix_words.items():\n",
    "            f.write(f\"\\n{suffix} ({len(words)} words):\\n\")\n",
    "            for word in sorted(words):\n",
    "                f.write(f\"  {word}\\n\")"
   ]
  },
  {
   "cell_type": "code",
   "execution_count": null,
   "metadata": {},
   "outputs": [],
   "source": []
  }
 ],
 "metadata": {
  "kernelspec": {
   "display_name": "nlp",
   "language": "python",
   "name": "python3"
  },
  "language_info": {
   "codemirror_mode": {
    "name": "ipython",
    "version": 3
   },
   "file_extension": ".py",
   "mimetype": "text/x-python",
   "name": "python",
   "nbconvert_exporter": "python",
   "pygments_lexer": "ipython3",
   "version": "3.10.4"
  }
 },
 "nbformat": 4,
 "nbformat_minor": 2
}
